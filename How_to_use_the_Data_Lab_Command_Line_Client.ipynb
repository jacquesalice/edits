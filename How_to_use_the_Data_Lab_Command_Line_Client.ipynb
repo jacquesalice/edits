{
 "cells": [
  {
   "cell_type": "code",
   "execution_count": 1,
   "metadata": {},
   "outputs": [],
   "source": [
    "__author__ = 'Alice Jacques <alice.jacques@noao.edu>, NOIRLab Astro Data Lab Team <datalab@noao.edu>'\n",
    "__version__ = '20200915'\n",
    "__keywords__ = ['vospace','mydb','store files','query']"
   ]
  },
  {
   "cell_type": "markdown",
   "metadata": {},
   "source": [
    "# How to use the Data Lab *Command Line Client* Service"
   ]
  },
  {
   "cell_type": "markdown",
   "metadata": {},
   "source": [
    "### Table of Contents\n",
    "\n",
    "* [Summary](#summary)\n",
    "* [Disclaimer & attribution](#attribution)\n",
    "* [Imports & setup](#imports)\n",
    "* [Handling VOSpace directories/files via the datalab command line client](#datalabcommand)\n",
    "    - [Uploading a file](#cmdupload)\n",
    "    - [Downloading a file](#cmddownload)\n",
    "    - [Copying a file/directory](#cmdcopy)\n",
    "    - [Linking a file/directory](#cmdlink)\n",
    "    - [Creating a directory](#cmdcreate)\n",
    "    - [Moving a file/directory](#cmdmove)\n",
    "    - [Deleting a file](#cmddeletefile)\n",
    "    - [Deleting a directory](#cmddeletedirectory)\n",
    "    - ~[Tagging a file/directory](#cmdtag)~\n",
    "* [Handling MyDB tables via the datalab command line client](#datalabcmdmydb)\n",
    "    - [Listing MyDB tables and a table's schema](#listcmdmydb)\n",
    "    - [Creating a MyDB table](#createcmdmydb)\n",
    "    - [Inserting data into a MyDB table](#insertcmdmydb)\n",
    "    - [Importing data into a MyDB table](#importcmdmydb)\n",
    "    - [Truncating a MyDB table](#truncmdmydb)\n",
    "    - [Copying a MyDB table](#copycmdmydb)\n",
    "    - [Renaming a MyDB table](#renamecmdmydb)\n",
    "    - [Dropping a MyDB table](#dropcmdmydb)\n",
    "    \n",
    "*Note: those that are crossed out above indicate this feature is currently not working.*    "
   ]
  },
  {
   "cell_type": "markdown",
   "metadata": {},
   "source": [
    "<a class=\"anchor\" id=\"summary\"></a>\n",
    "# Summary\n",
    "\n",
    "This notebook documents how to use the `datalab` command line to access the Data Lab virtual storage system VOSpace and a user's personal MyDB database. The `datalab` command provides an alternate command line way to work with the auth client, query client, and store client. The API documentation can be found [here](https://datalab.noao.edu/docs/manual/UsingTheNOAODataLab/CommandLineTools/TheDatalabCommand/TheDatalabCommand.html)."
   ]
  },
  {
   "cell_type": "markdown",
   "metadata": {},
   "source": [
    "<a class=\"anchor\" id=\"attribution\"></a>\n",
    "# Disclaimer & attribution\n",
    "If you use this notebook for your published science, please acknowledge the following:\n",
    "\n",
    "* Data Lab concept paper: Fitzpatrick et al., \"The NOAO Data Laboratory: a conceptual overview\", SPIE, 9149, 2014, http://dx.doi.org/10.1117/12.2057445\n",
    "\n",
    "* Data Lab disclaimer: http://datalab.noao.edu/disclaimers.php"
   ]
  },
  {
   "cell_type": "markdown",
   "metadata": {},
   "source": [
    "<a class=\"anchor\" id=\"imports\"></a>\n",
    "# Imports & setup"
   ]
  },
  {
   "cell_type": "code",
   "execution_count": 2,
   "metadata": {},
   "outputs": [],
   "source": [
    "# Use Data Lab's queryClient to create an example file in this notebook\n",
    "from dl import queryClient as qc\n",
    "# Use to convert table to Pandas dataframe object\n",
    "from dl.helpers.utils import convert"
   ]
  },
  {
   "cell_type": "code",
   "execution_count": 3,
   "metadata": {},
   "outputs": [],
   "source": [
    "# temp\n",
    "qc.set_svc_url('http://dltest.datalab.noao.edu/query')"
   ]
  },
  {
   "cell_type": "markdown",
   "metadata": {},
   "source": [
    "The Data Lab Command Line Client is a Python-based package that provides an alternate way to interact with the various Data Lab services. It can be installed with \n",
    "\n",
    "    pip install --ignore-installed --no-cache-dir noaodatalab\n",
    "    \n",
    "It is invoked via the `datalab` command. \n",
    "\n",
    "We need to be logged into the Data Lab to use the query client and store client. If you are not already logged in, enter your Data Lab username after '*user=*' and enter your password for Data Lab after '*password=*' below:"
   ]
  },
  {
   "cell_type": "code",
   "execution_count": 4,
   "metadata": {},
   "outputs": [
    {
     "name": "stdout",
     "output_type": "stream",
     "text": [
      "User 'ajacques_dltest' is already logged in to the Data Lab\r\n"
     ]
    }
   ],
   "source": [
    "!datalab login user=ajacques_dltest password="
   ]
  },
  {
   "cell_type": "markdown",
   "metadata": {},
   "source": [
    "<a class=\"anchor\" id=\"datalabcommand\"></a>\n",
    "# 1. Handling directories/files via the datalab command line client\n",
    "\n",
    "The `datalab` command provides a way to use a user's VOSpace. VOSpace is a convenient virtual storage space for users to save their work. It can store any data or file type."
   ]
  },
  {
   "cell_type": "markdown",
   "metadata": {},
   "source": [
    "Before we start this section, let's first query some example data from a Data Lab database and save it locally as a CSV file named `smags.csv`:"
   ]
  },
  {
   "cell_type": "code",
   "execution_count": 5,
   "metadata": {},
   "outputs": [
    {
     "data": {
      "text/plain": [
       "'OK'"
      ]
     },
     "execution_count": 5,
     "metadata": {},
     "output_type": "execute_result"
    }
   ],
   "source": [
    "query = 'SELECT gmag, imag, rmag, zmag FROM smash_dr1.object LIMIT 10'\n",
    "qc.query(adql=query,fmt='csv',out='./smags.csv')"
   ]
  },
  {
   "cell_type": "markdown",
   "metadata": {},
   "source": [
    "<a class=\"anchor\" id=\"cmdupload\"></a>\n",
    "### 1.1 Uploading a file\n",
    "\n",
    "Let's say we want to upload a file from our local disk to the virtual storage:"
   ]
  },
  {
   "cell_type": "code",
   "execution_count": 6,
   "metadata": {},
   "outputs": [],
   "source": [
    "!datalab put fr=\"./smags.csv\" to=\"vos://smags.csv\""
   ]
  },
  {
   "cell_type": "markdown",
   "metadata": {},
   "source": [
    "We can check that it has been uploaded to VOSpace:"
   ]
  },
  {
   "cell_type": "code",
   "execution_count": 7,
   "metadata": {},
   "outputs": [
    {
     "name": "stdout",
     "output_type": "stream",
     "text": [
      "smags.csv\r\n"
     ]
    }
   ],
   "source": [
    "!datalab ls name=\"vos://smags.csv\""
   ]
  },
  {
   "cell_type": "markdown",
   "metadata": {},
   "source": [
    "<a class=\"anchor\" id=\"cmddownload\"></a>\n",
    "### 1.2 Downloading a file\n",
    "\n",
    "Let's say we want to download a file from our virtual storage space, in this case the CSV file that we uploaded to it in the last cell:"
   ]
  },
  {
   "cell_type": "code",
   "execution_count": 8,
   "metadata": {},
   "outputs": [],
   "source": [
    "!datalab get fr=\"vos://smags.csv\" to=\"./mysmags.csv\""
   ]
  },
  {
   "cell_type": "markdown",
   "metadata": {},
   "source": [
    "<a class=\"anchor\" id=\"cmdcopy\"></a>\n",
    "### 1.3 Copying a file/directory\n",
    "\n",
    "We want to put a copy of the file in a remote work directory:"
   ]
  },
  {
   "cell_type": "code",
   "execution_count": 9,
   "metadata": {},
   "outputs": [],
   "source": [
    "!datalab cp fr=\"vos://smags.csv\" to=\"vos://tmp/smags.csv\""
   ]
  },
  {
   "cell_type": "markdown",
   "metadata": {},
   "source": [
    "<a class=\"anchor\" id=\"cmdlink\"></a>\n",
    "### 1.4 Linking to a file/directory\n",
    "\n",
    "Sometimes we want to create a link to a file or directory. The following creates a (soft) link to the specified file at the given location:"
   ]
  },
  {
   "cell_type": "code",
   "execution_count": 10,
   "metadata": {},
   "outputs": [],
   "source": [
    "!datalab ln fr=\"vos://tmp/mags.csv\" to=\"vos://mags.csv\""
   ]
  },
  {
   "cell_type": "markdown",
   "metadata": {},
   "source": [
    "<a class=\"anchor\" id=\"cmdlist\"></a>\n",
    "### 1.5 Listing a file/directory\n",
    "\n",
    "We can see all the files that are in a specific directory or get a full listing for a specific file:"
   ]
  },
  {
   "cell_type": "code",
   "execution_count": 11,
   "metadata": {},
   "outputs": [
    {
     "name": "stdout",
     "output_type": "stream",
     "text": [
      "smags.csv\r\n"
     ]
    }
   ],
   "source": [
    "!datalab ls name=\"vos://tmp\""
   ]
  },
  {
   "cell_type": "markdown",
   "metadata": {},
   "source": [
    "<a class=\"anchor\" id=\"cmdcreate\"></a>\n",
    "### 1.6 Creating a directory\n",
    "\n",
    "We can create a directory:"
   ]
  },
  {
   "cell_type": "code",
   "execution_count": 12,
   "metadata": {},
   "outputs": [],
   "source": [
    "!datalab mkdir name=\"vos://results\""
   ]
  },
  {
   "cell_type": "markdown",
   "metadata": {},
   "source": [
    "<a class=\"anchor\" id=\"cmdmove\"></a>\n",
    "### 1.7 Moving a file/directory\n",
    "\n",
    "We can move a file or directory:"
   ]
  },
  {
   "cell_type": "code",
   "execution_count": 13,
   "metadata": {},
   "outputs": [],
   "source": [
    "!datalab mv fr=\"vos://tmp/smags.csv\" to=\"vos://results\""
   ]
  },
  {
   "cell_type": "markdown",
   "metadata": {},
   "source": [
    "<a class=\"anchor\" id=\"cmddeletefile\"></a>\n",
    "### 1.8 Deleting a file\n",
    "\n",
    "We can delete a file:"
   ]
  },
  {
   "cell_type": "code",
   "execution_count": 14,
   "metadata": {},
   "outputs": [],
   "source": [
    "!datalab rm name=\"vos://results/smags.csv\""
   ]
  },
  {
   "cell_type": "markdown",
   "metadata": {},
   "source": [
    "<a class=\"anchor\" id=\"cmddeletedirectory\"></a>\n",
    "### 1.9 Deleting a directory\n",
    "\n",
    "We can also delete a directory:"
   ]
  },
  {
   "cell_type": "code",
   "execution_count": 15,
   "metadata": {},
   "outputs": [],
   "source": [
    "!datalab rmdir name=\"vos://results\""
   ]
  },
  {
   "cell_type": "markdown",
   "metadata": {},
   "source": [
    "<a class=\"anchor\" id=\"cmdtag\"></a>\n",
    "### ~1.10 Tagging a file/directory~\n",
    "**Warning**: Tagging is currently **not** working in the Data Lab storage manager. This notebook will be updated when the problem has been resolved.\n",
    "\n",
    "We can tag any file or directory with arbitrary metadata:"
   ]
  },
  {
   "cell_type": "code",
   "execution_count": 16,
   "metadata": {},
   "outputs": [],
   "source": [
    "#!datalab tag name=\"vos://results\" tag=\"The results from my analysis\""
   ]
  },
  {
   "cell_type": "markdown",
   "metadata": {},
   "source": [
    "<a class=\"anchor\" id=\"datalabcmdmydb\"></a>\n",
    "# 2. Handling MyDB tables via the datalab command line client\n",
    "The `datalab` command provides a way to use a user's MyDB database. MyDB is a useful virtual storage space for users to save their work as a table. It can only store data tables. **_NOTE: The data must be in the form of either a CSV file or Pandas Dataframe object in order to load it into MyDB._**"
   ]
  },
  {
   "cell_type": "markdown",
   "metadata": {},
   "source": [
    "<a class=\"anchor\" id=\"listcmdmydb\"></a>\n",
    "### 2.1 Listing MyDB tables and a table's schema\n",
    "\n",
    "We can list all of the MyDB tables currently in a user's database with the `mydb_list` function:"
   ]
  },
  {
   "cell_type": "code",
   "execution_count": 17,
   "metadata": {},
   "outputs": [
    {
     "name": "stdout",
     "output_type": "stream",
     "text": [
      "spec0436SPZ,created:2020-09-11 22:10:33 UTC\r\n",
      "spec0436a,created:2020-09-11 22:21:17 UTC\r\n",
      "spec,created:2020-09-15 00:37:51 UTC\r\n",
      "scan_results,created:2020-09-04 19:08:58 UTC\r\n",
      "magsvos,created:2020-09-15 16:30:55 UTC\r\n",
      "table1,created:2020-09-15 16:45:54 UTC\r\n",
      "photobj,created:2020-09-15 22:08:19 UTC\r\n",
      "testresult2,created:2020-08-28 19:18:13 UTC\r\n",
      "spec0436,created:2020-09-11 21:49:15 UTC\r\n",
      "\r\n"
     ]
    }
   ],
   "source": [
    "!datalab mydb_list"
   ]
  },
  {
   "cell_type": "markdown",
   "metadata": {},
   "source": [
    "We can also list the schema and schema's datatype in a specified MyDB table:"
   ]
  },
  {
   "cell_type": "code",
   "execution_count": 18,
   "metadata": {},
   "outputs": [
    {
     "name": "stdout",
     "output_type": "stream",
     "text": [
      "relation \"usno_objects\" not known\r\n"
     ]
    }
   ],
   "source": [
    "!datalab mydb_list table=\"usno_objects\""
   ]
  },
  {
   "cell_type": "markdown",
   "metadata": {},
   "source": [
    "<a class=\"anchor\" id=\"createcmdmydb\"></a>\n",
    "### 2.2 Creating a MyDB table \n",
    "We can create a new empty MyDB table with a user-provided schema file using the `mydb_create` function with the following parameters:\n",
    "\n",
    "*table* - name of the new MyDB table to create  \n",
    "*schema* - location and name of the schema definition to be in the table\n",
    "\n",
    "The schema definition is stored in a text file, in this case in the user notebook directory. The schema definition file is a CSV-formatted file that contains column name and (Postgres) data type, one row per column. The general format is:\n",
    "\n",
    "`Columnname1,datatype1\\nColumnname2,datatype2\\nColumnname3,datatype3`\n",
    "\n",
    "Let's first create a simple (id,ra,dec) schema of an integer value and two double values and save it locally as a text file named `schema.txt`:"
   ]
  },
  {
   "cell_type": "code",
   "execution_count": 19,
   "metadata": {},
   "outputs": [],
   "source": [
    "schema_str = 'id,integer\\nra,double precision\\ndec,double precision\\n'\n",
    "with open ('schema.txt','w') as fd:\n",
    "    fd.write (schema_str)"
   ]
  },
  {
   "cell_type": "markdown",
   "metadata": {},
   "source": [
    "Now let's use the `mydb_create` function to make a new table in MyDB with the schema definition we created above:"
   ]
  },
  {
   "cell_type": "code",
   "execution_count": 20,
   "metadata": {},
   "outputs": [
    {
     "name": "stdout",
     "output_type": "stream",
     "text": [
      "OK\r\n"
     ]
    }
   ],
   "source": [
    "!datalab mydb_create table=\"table1\" schema=\"./schema.txt\""
   ]
  },
  {
   "cell_type": "markdown",
   "metadata": {},
   "source": [
    "Let's make sure the table was created in MyDB by calling the `mydb_list` function:"
   ]
  },
  {
   "cell_type": "code",
   "execution_count": 21,
   "metadata": {},
   "outputs": [
    {
     "name": "stdout",
     "output_type": "stream",
     "text": [
      "spec0436SPZ,created:2020-09-11 22:10:33 UTC\r\n",
      "spec0436a,created:2020-09-11 22:21:17 UTC\r\n",
      "spec,created:2020-09-15 00:37:51 UTC\r\n",
      "scan_results,created:2020-09-04 19:08:58 UTC\r\n",
      "magsvos,created:2020-09-15 16:30:55 UTC\r\n",
      "photobj,created:2020-09-15 22:08:19 UTC\r\n",
      "table1,created:2020-09-22 22:22:47 UTC\r\n",
      "testresult2,created:2020-08-28 19:18:13 UTC\r\n",
      "spec0436,created:2020-09-11 21:49:15 UTC\r\n",
      "\r\n"
     ]
    }
   ],
   "source": [
    "!datalab mydb_list"
   ]
  },
  {
   "cell_type": "markdown",
   "metadata": {},
   "source": [
    "Let's also make sure the schema was loaded into the table by calling the `mydb_list` function on the table:"
   ]
  },
  {
   "cell_type": "code",
   "execution_count": 22,
   "metadata": {},
   "outputs": [
    {
     "name": "stdout",
     "output_type": "stream",
     "text": [
      "id,integer,\r\n",
      "ra,double precision,\r\n",
      "dec,double precision,\r\n",
      "\r\n"
     ]
    }
   ],
   "source": [
    "!datalab mydb_list table=\"table1\""
   ]
  },
  {
   "cell_type": "markdown",
   "metadata": {},
   "source": [
    "<a class=\"anchor\" id=\"insertcmdmydb\"></a>\n",
    "### 2.3 Inserting data into a MyDB table\n",
    "\n",
    "We can choose to insert data saved on a local computer or insert data from VOSpace into a pre-existing MyDB table. The data must be in the form of either a CSV file or Pandas Dataframe object in order to load it into MyDB. Use the `mydb_insert` function and the following parameters:  \n",
    "\n",
    "*table* - name of the pre-existing MyDB table in which to insert the data  \n",
    "*data* - location and name of the data to insert into the table"
   ]
  },
  {
   "cell_type": "markdown",
   "metadata": {},
   "source": [
    "We will use the `exampledata.csv` file provided in this notebook directory as our data to insert into the `table1` table we created a few cells above:"
   ]
  },
  {
   "cell_type": "code",
   "execution_count": 23,
   "metadata": {},
   "outputs": [
    {
     "name": "stdout",
     "output_type": "stream",
     "text": [
      "OK\r\n"
     ]
    }
   ],
   "source": [
    "!datalab mydb_insert table=\"table1\" data=\"./exampledata.csv\""
   ]
  },
  {
   "cell_type": "markdown",
   "metadata": {},
   "source": [
    "**IN THIS NOTEBOOK (not on command line):** Let's make sure the data was inserted into the table by converting the table into a Pandas Dataframe and printing it on-screen:"
   ]
  },
  {
   "cell_type": "code",
   "execution_count": 24,
   "metadata": {},
   "outputs": [
    {
     "data": {
      "text/html": [
       "<div>\n",
       "<style scoped>\n",
       "    .dataframe tbody tr th:only-of-type {\n",
       "        vertical-align: middle;\n",
       "    }\n",
       "\n",
       "    .dataframe tbody tr th {\n",
       "        vertical-align: top;\n",
       "    }\n",
       "\n",
       "    .dataframe thead th {\n",
       "        text-align: right;\n",
       "    }\n",
       "</style>\n",
       "<table border=\"1\" class=\"dataframe\">\n",
       "  <thead>\n",
       "    <tr style=\"text-align: right;\">\n",
       "      <th></th>\n",
       "      <th>id</th>\n",
       "      <th>ra</th>\n",
       "      <th>dec</th>\n",
       "    </tr>\n",
       "  </thead>\n",
       "  <tbody>\n",
       "  </tbody>\n",
       "</table>\n",
       "</div>"
      ],
      "text/plain": [
       "Empty DataFrame\n",
       "Columns: [id, ra, dec]\n",
       "Index: []"
      ]
     },
     "execution_count": 24,
     "metadata": {},
     "output_type": "execute_result"
    }
   ],
   "source": [
    "df1=convert(qc.query(sql=\"SELECT * FROM mydb://table1\"))\n",
    "df1"
   ]
  },
  {
   "cell_type": "markdown",
   "metadata": {},
   "source": [
    "<a class=\"anchor\" id=\"importcmdmydb\"></a>\n",
    "### 2.4 Importing data into a MyDB table\n",
    "We can import data saved on a local computer or import data from VOSpace into a MyDB data table. The data must be in the form of either a CSV file or Pandas Dataframe object in order to load it into MyDB. Use the `mydb_import` function with the following parameters: \n",
    "\n",
    "*table* - name of the new MyDB table to create with the imported data  \n",
    "*data* - location and name of the data to import  "
   ]
  },
  {
   "cell_type": "markdown",
   "metadata": {},
   "source": [
    "Let's first query some example data from a Data Lab database and save it locally as a CSV file named `gaia_result.csv`:"
   ]
  },
  {
   "cell_type": "code",
   "execution_count": 25,
   "metadata": {},
   "outputs": [
    {
     "data": {
      "text/plain": [
       "'OK'"
      ]
     },
     "execution_count": 25,
     "metadata": {},
     "output_type": "execute_result"
    }
   ],
   "source": [
    "query = \"select * from gaia_dr1.gaia_source limit 10\"\n",
    "qc.query (adql=query, fmt='csv', out='./gaia_result.csv')"
   ]
  },
  {
   "cell_type": "markdown",
   "metadata": {},
   "source": [
    "Now we can import the queried data into a new MyDB table:"
   ]
  },
  {
   "cell_type": "code",
   "execution_count": 26,
   "metadata": {},
   "outputs": [
    {
     "name": "stdout",
     "output_type": "stream",
     "text": [
      "OK\r\n"
     ]
    }
   ],
   "source": [
    "!datalab mydb_import table=\"gaia_result_table\" data=\"./gaia_result.csv\""
   ]
  },
  {
   "cell_type": "markdown",
   "metadata": {},
   "source": [
    "Let's make sure the table was created in MyDB by calling the `mydb_list` function:"
   ]
  },
  {
   "cell_type": "code",
   "execution_count": 27,
   "metadata": {},
   "outputs": [
    {
     "name": "stdout",
     "output_type": "stream",
     "text": [
      "spec0436SPZ,created:2020-09-11 22:10:33 UTC\r\n",
      "spec0436a,created:2020-09-11 22:21:17 UTC\r\n",
      "spec,created:2020-09-15 00:37:51 UTC\r\n",
      "scan_results,created:2020-09-04 19:08:58 UTC\r\n",
      "magsvos,created:2020-09-15 16:30:55 UTC\r\n",
      "photobj,created:2020-09-15 22:08:19 UTC\r\n",
      "table1,created:2020-09-22 22:22:47 UTC\r\n",
      "gaia_result_table,created:2020-09-22 22:23:04 UTC\r\n",
      "testresult2,created:2020-08-28 19:18:13 UTC\r\n",
      "spec0436,created:2020-09-11 21:49:15 UTC\r\n",
      "\r\n"
     ]
    }
   ],
   "source": [
    "!datalab mydb_list"
   ]
  },
  {
   "cell_type": "markdown",
   "metadata": {},
   "source": [
    "**IN THIS NOTEBOOK (not on command line):** Let's also make sure the data was imported into the table by converting the table into a Pandas Dataframe and printing it on-screen:"
   ]
  },
  {
   "cell_type": "code",
   "execution_count": 28,
   "metadata": {},
   "outputs": [
    {
     "data": {
      "text/html": [
       "<div>\n",
       "<style scoped>\n",
       "    .dataframe tbody tr th:only-of-type {\n",
       "        vertical-align: middle;\n",
       "    }\n",
       "\n",
       "    .dataframe tbody tr th {\n",
       "        vertical-align: top;\n",
       "    }\n",
       "\n",
       "    .dataframe thead th {\n",
       "        text-align: right;\n",
       "    }\n",
       "</style>\n",
       "<table border=\"1\" class=\"dataframe\">\n",
       "  <thead>\n",
       "    <tr style=\"text-align: right;\">\n",
       "      <th></th>\n",
       "      <th>ring256</th>\n",
       "      <th>solution_id</th>\n",
       "      <th>source_id</th>\n",
       "      <th>random_index</th>\n",
       "      <th>htm9</th>\n",
       "      <th>nest256</th>\n",
       "      <th>ref_epoch</th>\n",
       "      <th>ra</th>\n",
       "      <th>ra_error</th>\n",
       "      <th>dec</th>\n",
       "      <th>...</th>\n",
       "      <th>scan_direction_mean_k4</th>\n",
       "      <th>phot_g_n_obs</th>\n",
       "      <th>phot_g_mean_flux</th>\n",
       "      <th>phot_g_mean_flux_error</th>\n",
       "      <th>phot_g_mean_mag</th>\n",
       "      <th>phot_variable_flag</th>\n",
       "      <th>l</th>\n",
       "      <th>b</th>\n",
       "      <th>ecl_lon</th>\n",
       "      <th>ecl_lat</th>\n",
       "    </tr>\n",
       "  </thead>\n",
       "  <tbody>\n",
       "    <tr>\n",
       "      <th>0</th>\n",
       "      <td>NaN</td>\n",
       "      <td>380766208</td>\n",
       "      <td>23179905444265169</td>\n",
       "      <td>843169876263567360</td>\n",
       "      <td>2408475</td>\n",
       "      <td>NaN</td>\n",
       "      <td>2015</td>\n",
       "      <td>116.290939</td>\n",
       "      <td>3.405656</td>\n",
       "      <td>-23.164752</td>\n",
       "      <td>...</td>\n",
       "      <td>18.818005</td>\n",
       "      <td>77</td>\n",
       "      <td>236.328243</td>\n",
       "      <td>2.200514</td>\n",
       "      <td>19.590981</td>\n",
       "      <td>NOT_AVAILABLE</td>\n",
       "      <td>239.515537</td>\n",
       "      <td>0.612390</td>\n",
       "      <td>124.174458</td>\n",
       "      <td>-43.534636</td>\n",
       "    </tr>\n",
       "    <tr>\n",
       "      <th>1</th>\n",
       "      <td>NaN</td>\n",
       "      <td>380766208</td>\n",
       "      <td>4351318574415056</td>\n",
       "      <td>2598032507693694976</td>\n",
       "      <td>2408475</td>\n",
       "      <td>NaN</td>\n",
       "      <td>2015</td>\n",
       "      <td>116.290231</td>\n",
       "      <td>0.246735</td>\n",
       "      <td>-23.164576</td>\n",
       "      <td>...</td>\n",
       "      <td>10.967476</td>\n",
       "      <td>113</td>\n",
       "      <td>1935.924665</td>\n",
       "      <td>4.577411</td>\n",
       "      <td>17.307549</td>\n",
       "      <td>NOT_AVAILABLE</td>\n",
       "      <td>239.515059</td>\n",
       "      <td>0.611914</td>\n",
       "      <td>124.173528</td>\n",
       "      <td>-43.534623</td>\n",
       "    </tr>\n",
       "    <tr>\n",
       "      <th>2</th>\n",
       "      <td>NaN</td>\n",
       "      <td>380766208</td>\n",
       "      <td>4385953190690000</td>\n",
       "      <td>887301575763034112</td>\n",
       "      <td>2408475</td>\n",
       "      <td>NaN</td>\n",
       "      <td>2015</td>\n",
       "      <td>116.291572</td>\n",
       "      <td>1.255318</td>\n",
       "      <td>-23.161752</td>\n",
       "      <td>...</td>\n",
       "      <td>9.119689</td>\n",
       "      <td>84</td>\n",
       "      <td>123.182389</td>\n",
       "      <td>1.431457</td>\n",
       "      <td>20.298399</td>\n",
       "      <td>NOT_AVAILABLE</td>\n",
       "      <td>239.513232</td>\n",
       "      <td>0.614394</td>\n",
       "      <td>124.174230</td>\n",
       "      <td>-43.531585</td>\n",
       "    </tr>\n",
       "    <tr>\n",
       "      <th>3</th>\n",
       "      <td>NaN</td>\n",
       "      <td>380766208</td>\n",
       "      <td>4378806365109368</td>\n",
       "      <td>3076843072533823488</td>\n",
       "      <td>2408475</td>\n",
       "      <td>NaN</td>\n",
       "      <td>2015</td>\n",
       "      <td>116.285239</td>\n",
       "      <td>0.153873</td>\n",
       "      <td>-23.162769</td>\n",
       "      <td>...</td>\n",
       "      <td>3.366320</td>\n",
       "      <td>131</td>\n",
       "      <td>2734.271919</td>\n",
       "      <td>3.688565</td>\n",
       "      <td>16.932666</td>\n",
       "      <td>NOT_AVAILABLE</td>\n",
       "      <td>239.511197</td>\n",
       "      <td>0.608845</td>\n",
       "      <td>124.166781</td>\n",
       "      <td>-43.533986</td>\n",
       "    </tr>\n",
       "    <tr>\n",
       "      <th>4</th>\n",
       "      <td>NaN</td>\n",
       "      <td>380766208</td>\n",
       "      <td>4399697086037200</td>\n",
       "      <td>1609310944297484288</td>\n",
       "      <td>2408475</td>\n",
       "      <td>NaN</td>\n",
       "      <td>2015</td>\n",
       "      <td>116.289244</td>\n",
       "      <td>1.458838</td>\n",
       "      <td>-23.160597</td>\n",
       "      <td>...</td>\n",
       "      <td>8.174327</td>\n",
       "      <td>95</td>\n",
       "      <td>112.689561</td>\n",
       "      <td>1.341041</td>\n",
       "      <td>20.395061</td>\n",
       "      <td>NOT_AVAILABLE</td>\n",
       "      <td>239.511160</td>\n",
       "      <td>0.613120</td>\n",
       "      <td>124.170979</td>\n",
       "      <td>-43.530984</td>\n",
       "    </tr>\n",
       "    <tr>\n",
       "      <th>5</th>\n",
       "      <td>NaN</td>\n",
       "      <td>380766208</td>\n",
       "      <td>4373858562784544</td>\n",
       "      <td>3862989939318718464</td>\n",
       "      <td>2408475</td>\n",
       "      <td>NaN</td>\n",
       "      <td>2015</td>\n",
       "      <td>116.254219</td>\n",
       "      <td>6.171484</td>\n",
       "      <td>-23.162376</td>\n",
       "      <td>...</td>\n",
       "      <td>21.202408</td>\n",
       "      <td>69</td>\n",
       "      <td>198.763997</td>\n",
       "      <td>2.069524</td>\n",
       "      <td>19.778926</td>\n",
       "      <td>NOT_AVAILABLE</td>\n",
       "      <td>239.496583</td>\n",
       "      <td>0.584351</td>\n",
       "      <td>124.128486</td>\n",
       "      <td>-43.540530</td>\n",
       "    </tr>\n",
       "    <tr>\n",
       "      <th>6</th>\n",
       "      <td>NaN</td>\n",
       "      <td>380766208</td>\n",
       "      <td>4407393667431712</td>\n",
       "      <td>632482909848076288</td>\n",
       "      <td>2408475</td>\n",
       "      <td>NaN</td>\n",
       "      <td>2015</td>\n",
       "      <td>116.255381</td>\n",
       "      <td>1.086849</td>\n",
       "      <td>-23.160792</td>\n",
       "      <td>...</td>\n",
       "      <td>13.260841</td>\n",
       "      <td>101</td>\n",
       "      <td>656.460955</td>\n",
       "      <td>3.903377</td>\n",
       "      <td>18.481748</td>\n",
       "      <td>NOT_AVAILABLE</td>\n",
       "      <td>239.495746</td>\n",
       "      <td>0.586068</td>\n",
       "      <td>124.129384</td>\n",
       "      <td>-43.538735</td>\n",
       "    </tr>\n",
       "    <tr>\n",
       "      <th>7</th>\n",
       "      <td>NaN</td>\n",
       "      <td>380766208</td>\n",
       "      <td>4434881458126128</td>\n",
       "      <td>3212738582263365632</td>\n",
       "      <td>2408475</td>\n",
       "      <td>NaN</td>\n",
       "      <td>2015</td>\n",
       "      <td>116.253264</td>\n",
       "      <td>0.832638</td>\n",
       "      <td>-23.159074</td>\n",
       "      <td>...</td>\n",
       "      <td>25.699459</td>\n",
       "      <td>86</td>\n",
       "      <td>4388.125085</td>\n",
       "      <td>10.672744</td>\n",
       "      <td>16.419073</td>\n",
       "      <td>NOT_AVAILABLE</td>\n",
       "      <td>239.493286</td>\n",
       "      <td>0.585243</td>\n",
       "      <td>124.126205</td>\n",
       "      <td>-43.537541</td>\n",
       "    </tr>\n",
       "    <tr>\n",
       "      <th>8</th>\n",
       "      <td>NaN</td>\n",
       "      <td>380766208</td>\n",
       "      <td>4430483411615008</td>\n",
       "      <td>3483203663713796096</td>\n",
       "      <td>2408475</td>\n",
       "      <td>NaN</td>\n",
       "      <td>2015</td>\n",
       "      <td>116.257002</td>\n",
       "      <td>1.024042</td>\n",
       "      <td>-23.159237</td>\n",
       "      <td>...</td>\n",
       "      <td>14.362892</td>\n",
       "      <td>105</td>\n",
       "      <td>986.275922</td>\n",
       "      <td>2.528124</td>\n",
       "      <td>18.039774</td>\n",
       "      <td>NOT_AVAILABLE</td>\n",
       "      <td>239.495146</td>\n",
       "      <td>0.588136</td>\n",
       "      <td>124.130858</td>\n",
       "      <td>-43.536865</td>\n",
       "    </tr>\n",
       "    <tr>\n",
       "      <th>9</th>\n",
       "      <td>NaN</td>\n",
       "      <td>380766208</td>\n",
       "      <td>4456321934867744</td>\n",
       "      <td>3753117769579626496</td>\n",
       "      <td>2408473</td>\n",
       "      <td>NaN</td>\n",
       "      <td>2015</td>\n",
       "      <td>116.257122</td>\n",
       "      <td>6.084146</td>\n",
       "      <td>-23.157678</td>\n",
       "      <td>...</td>\n",
       "      <td>21.201269</td>\n",
       "      <td>61</td>\n",
       "      <td>363.494481</td>\n",
       "      <td>2.598960</td>\n",
       "      <td>19.123526</td>\n",
       "      <td>NOT_AVAILABLE</td>\n",
       "      <td>239.493851</td>\n",
       "      <td>0.589012</td>\n",
       "      <td>124.130484</td>\n",
       "      <td>-43.535325</td>\n",
       "    </tr>\n",
       "  </tbody>\n",
       "</table>\n",
       "<p>10 rows × 60 columns</p>\n",
       "</div>"
      ],
      "text/plain": [
       "   ring256  solution_id          source_id         random_index     htm9  \\\n",
       "0      NaN    380766208  23179905444265169   843169876263567360  2408475   \n",
       "1      NaN    380766208   4351318574415056  2598032507693694976  2408475   \n",
       "2      NaN    380766208   4385953190690000   887301575763034112  2408475   \n",
       "3      NaN    380766208   4378806365109368  3076843072533823488  2408475   \n",
       "4      NaN    380766208   4399697086037200  1609310944297484288  2408475   \n",
       "5      NaN    380766208   4373858562784544  3862989939318718464  2408475   \n",
       "6      NaN    380766208   4407393667431712   632482909848076288  2408475   \n",
       "7      NaN    380766208   4434881458126128  3212738582263365632  2408475   \n",
       "8      NaN    380766208   4430483411615008  3483203663713796096  2408475   \n",
       "9      NaN    380766208   4456321934867744  3753117769579626496  2408473   \n",
       "\n",
       "   nest256  ref_epoch          ra  ra_error        dec  ...  \\\n",
       "0      NaN       2015  116.290939  3.405656 -23.164752  ...   \n",
       "1      NaN       2015  116.290231  0.246735 -23.164576  ...   \n",
       "2      NaN       2015  116.291572  1.255318 -23.161752  ...   \n",
       "3      NaN       2015  116.285239  0.153873 -23.162769  ...   \n",
       "4      NaN       2015  116.289244  1.458838 -23.160597  ...   \n",
       "5      NaN       2015  116.254219  6.171484 -23.162376  ...   \n",
       "6      NaN       2015  116.255381  1.086849 -23.160792  ...   \n",
       "7      NaN       2015  116.253264  0.832638 -23.159074  ...   \n",
       "8      NaN       2015  116.257002  1.024042 -23.159237  ...   \n",
       "9      NaN       2015  116.257122  6.084146 -23.157678  ...   \n",
       "\n",
       "   scan_direction_mean_k4  phot_g_n_obs  phot_g_mean_flux  \\\n",
       "0               18.818005            77        236.328243   \n",
       "1               10.967476           113       1935.924665   \n",
       "2                9.119689            84        123.182389   \n",
       "3                3.366320           131       2734.271919   \n",
       "4                8.174327            95        112.689561   \n",
       "5               21.202408            69        198.763997   \n",
       "6               13.260841           101        656.460955   \n",
       "7               25.699459            86       4388.125085   \n",
       "8               14.362892           105        986.275922   \n",
       "9               21.201269            61        363.494481   \n",
       "\n",
       "   phot_g_mean_flux_error  phot_g_mean_mag  phot_variable_flag           l  \\\n",
       "0                2.200514        19.590981       NOT_AVAILABLE  239.515537   \n",
       "1                4.577411        17.307549       NOT_AVAILABLE  239.515059   \n",
       "2                1.431457        20.298399       NOT_AVAILABLE  239.513232   \n",
       "3                3.688565        16.932666       NOT_AVAILABLE  239.511197   \n",
       "4                1.341041        20.395061       NOT_AVAILABLE  239.511160   \n",
       "5                2.069524        19.778926       NOT_AVAILABLE  239.496583   \n",
       "6                3.903377        18.481748       NOT_AVAILABLE  239.495746   \n",
       "7               10.672744        16.419073       NOT_AVAILABLE  239.493286   \n",
       "8                2.528124        18.039774       NOT_AVAILABLE  239.495146   \n",
       "9                2.598960        19.123526       NOT_AVAILABLE  239.493851   \n",
       "\n",
       "          b     ecl_lon    ecl_lat  \n",
       "0  0.612390  124.174458 -43.534636  \n",
       "1  0.611914  124.173528 -43.534623  \n",
       "2  0.614394  124.174230 -43.531585  \n",
       "3  0.608845  124.166781 -43.533986  \n",
       "4  0.613120  124.170979 -43.530984  \n",
       "5  0.584351  124.128486 -43.540530  \n",
       "6  0.586068  124.129384 -43.538735  \n",
       "7  0.585243  124.126205 -43.537541  \n",
       "8  0.588136  124.130858 -43.536865  \n",
       "9  0.589012  124.130484 -43.535325  \n",
       "\n",
       "[10 rows x 60 columns]"
      ]
     },
     "execution_count": 28,
     "metadata": {},
     "output_type": "execute_result"
    }
   ],
   "source": [
    "df2=convert(qc.query(sql=\"SELECT * FROM mydb://gaia_result_table\"))\n",
    "df2"
   ]
  },
  {
   "cell_type": "markdown",
   "metadata": {},
   "source": [
    "Similarly, we can use the `mydb_import` function to import data from VOSpace into a MyDB table:"
   ]
  },
  {
   "cell_type": "code",
   "execution_count": 29,
   "metadata": {},
   "outputs": [
    {
     "name": "stdout",
     "output_type": "stream",
     "text": [
      "OK\r\n"
     ]
    }
   ],
   "source": [
    "!datalab mydb_import table=\"magsvos\" data=\"vos://smags.csv\""
   ]
  },
  {
   "cell_type": "markdown",
   "metadata": {},
   "source": [
    "Let's make sure the table was created in MyDB by calling the `mydb_list` function:"
   ]
  },
  {
   "cell_type": "code",
   "execution_count": 30,
   "metadata": {},
   "outputs": [
    {
     "name": "stdout",
     "output_type": "stream",
     "text": [
      "spec0436SPZ,created:2020-09-11 22:10:33 UTC\r\n",
      "spec0436a,created:2020-09-11 22:21:17 UTC\r\n",
      "spec,created:2020-09-15 00:37:51 UTC\r\n",
      "scan_results,created:2020-09-04 19:08:58 UTC\r\n",
      "photobj,created:2020-09-15 22:08:19 UTC\r\n",
      "table1,created:2020-09-22 22:22:47 UTC\r\n",
      "gaia_result_table,created:2020-09-22 22:23:04 UTC\r\n",
      "magsvos,created:2020-09-22 22:23:14 UTC\r\n",
      "testresult2,created:2020-08-28 19:18:13 UTC\r\n",
      "spec0436,created:2020-09-11 21:49:15 UTC\r\n",
      "\r\n"
     ]
    }
   ],
   "source": [
    "!datalab mydb_list"
   ]
  },
  {
   "cell_type": "markdown",
   "metadata": {},
   "source": [
    "We can view the schema definition of the table by calling the `mydb_list` function on the table:"
   ]
  },
  {
   "cell_type": "code",
   "execution_count": 31,
   "metadata": {},
   "outputs": [
    {
     "name": "stdout",
     "output_type": "stream",
     "text": [
      "gmag,double precision,\r\n",
      "imag,double precision,\r\n",
      "rmag,double precision,\r\n",
      "zmag,double precision,\r\n",
      "\r\n"
     ]
    }
   ],
   "source": [
    "!datalab mydb_list table=\"magsvos\""
   ]
  },
  {
   "cell_type": "markdown",
   "metadata": {},
   "source": [
    "**IN THIS NOTEBOOK (not on command line):** Let's also make sure the data was imported into the table by converting the table into a Pandas Dataframe and printing it on-screen:"
   ]
  },
  {
   "cell_type": "code",
   "execution_count": 32,
   "metadata": {},
   "outputs": [
    {
     "data": {
      "text/html": [
       "<div>\n",
       "<style scoped>\n",
       "    .dataframe tbody tr th:only-of-type {\n",
       "        vertical-align: middle;\n",
       "    }\n",
       "\n",
       "    .dataframe tbody tr th {\n",
       "        vertical-align: top;\n",
       "    }\n",
       "\n",
       "    .dataframe thead th {\n",
       "        text-align: right;\n",
       "    }\n",
       "</style>\n",
       "<table border=\"1\" class=\"dataframe\">\n",
       "  <thead>\n",
       "    <tr style=\"text-align: right;\">\n",
       "      <th></th>\n",
       "      <th>gmag</th>\n",
       "      <th>imag</th>\n",
       "      <th>rmag</th>\n",
       "      <th>zmag</th>\n",
       "    </tr>\n",
       "  </thead>\n",
       "  <tbody>\n",
       "    <tr>\n",
       "      <th>0</th>\n",
       "      <td>24.859207</td>\n",
       "      <td>23.768522</td>\n",
       "      <td>24.148670</td>\n",
       "      <td>23.900684</td>\n",
       "    </tr>\n",
       "    <tr>\n",
       "      <th>1</th>\n",
       "      <td>25.097267</td>\n",
       "      <td>24.406269</td>\n",
       "      <td>24.357933</td>\n",
       "      <td>99.989998</td>\n",
       "    </tr>\n",
       "    <tr>\n",
       "      <th>2</th>\n",
       "      <td>25.083416</td>\n",
       "      <td>24.010031</td>\n",
       "      <td>24.611797</td>\n",
       "      <td>99.989998</td>\n",
       "    </tr>\n",
       "    <tr>\n",
       "      <th>3</th>\n",
       "      <td>25.379248</td>\n",
       "      <td>24.756306</td>\n",
       "      <td>99.989998</td>\n",
       "      <td>23.832212</td>\n",
       "    </tr>\n",
       "    <tr>\n",
       "      <th>4</th>\n",
       "      <td>24.923378</td>\n",
       "      <td>23.779806</td>\n",
       "      <td>24.037075</td>\n",
       "      <td>24.031853</td>\n",
       "    </tr>\n",
       "    <tr>\n",
       "      <th>5</th>\n",
       "      <td>24.816929</td>\n",
       "      <td>24.573749</td>\n",
       "      <td>24.496265</td>\n",
       "      <td>23.736013</td>\n",
       "    </tr>\n",
       "    <tr>\n",
       "      <th>6</th>\n",
       "      <td>25.039248</td>\n",
       "      <td>99.989998</td>\n",
       "      <td>99.989998</td>\n",
       "      <td>99.989998</td>\n",
       "    </tr>\n",
       "    <tr>\n",
       "      <th>7</th>\n",
       "      <td>24.665981</td>\n",
       "      <td>24.532278</td>\n",
       "      <td>24.336454</td>\n",
       "      <td>23.703526</td>\n",
       "    </tr>\n",
       "    <tr>\n",
       "      <th>8</th>\n",
       "      <td>25.134247</td>\n",
       "      <td>99.989998</td>\n",
       "      <td>99.989998</td>\n",
       "      <td>99.989998</td>\n",
       "    </tr>\n",
       "    <tr>\n",
       "      <th>9</th>\n",
       "      <td>24.831894</td>\n",
       "      <td>23.679804</td>\n",
       "      <td>24.246521</td>\n",
       "      <td>23.322733</td>\n",
       "    </tr>\n",
       "  </tbody>\n",
       "</table>\n",
       "</div>"
      ],
      "text/plain": [
       "        gmag       imag       rmag       zmag\n",
       "0  24.859207  23.768522  24.148670  23.900684\n",
       "1  25.097267  24.406269  24.357933  99.989998\n",
       "2  25.083416  24.010031  24.611797  99.989998\n",
       "3  25.379248  24.756306  99.989998  23.832212\n",
       "4  24.923378  23.779806  24.037075  24.031853\n",
       "5  24.816929  24.573749  24.496265  23.736013\n",
       "6  25.039248  99.989998  99.989998  99.989998\n",
       "7  24.665981  24.532278  24.336454  23.703526\n",
       "8  25.134247  99.989998  99.989998  99.989998\n",
       "9  24.831894  23.679804  24.246521  23.322733"
      ]
     },
     "execution_count": 32,
     "metadata": {},
     "output_type": "execute_result"
    }
   ],
   "source": [
    "df3=convert(qc.query(sql=\"SELECT * FROM mydb://magsvos\"))\n",
    "df3"
   ]
  },
  {
   "cell_type": "markdown",
   "metadata": {},
   "source": [
    "<a class=\"anchor\" id=\"truncmdmydb\"></a>\n",
    "### 2.5 Truncating a MyDB table \n",
    "            \n",
    "We can truncate a MyDB table, i.e. drop all rows but keep the table definition (schema), with the `mydb_truncate` function and the following parameter:\n",
    "\n",
    "*table* - name of the MyDB table to truncate"
   ]
  },
  {
   "cell_type": "code",
   "execution_count": 33,
   "metadata": {},
   "outputs": [
    {
     "name": "stdout",
     "output_type": "stream",
     "text": [
      "OK\r\n"
     ]
    }
   ],
   "source": [
    "!datalab mydb_truncate table=\"table1\" "
   ]
  },
  {
   "cell_type": "markdown",
   "metadata": {},
   "source": [
    "Let's make sure the table was truncated by calling the `mydb_list` function on the table: "
   ]
  },
  {
   "cell_type": "code",
   "execution_count": 34,
   "metadata": {},
   "outputs": [
    {
     "name": "stdout",
     "output_type": "stream",
     "text": [
      "id,integer,\r\n",
      "ra,double precision,\r\n",
      "dec,double precision,\r\n",
      "\r\n"
     ]
    }
   ],
   "source": [
    "!datalab mydb_list table=\"table1\""
   ]
  },
  {
   "cell_type": "markdown",
   "metadata": {},
   "source": [
    "**IN THIS NOTEBOOK (not on command line):** We can also make sure the table was truncated by converting the table into a Pandas Dataframe and printing it on-screen:"
   ]
  },
  {
   "cell_type": "code",
   "execution_count": 35,
   "metadata": {},
   "outputs": [
    {
     "data": {
      "text/html": [
       "<div>\n",
       "<style scoped>\n",
       "    .dataframe tbody tr th:only-of-type {\n",
       "        vertical-align: middle;\n",
       "    }\n",
       "\n",
       "    .dataframe tbody tr th {\n",
       "        vertical-align: top;\n",
       "    }\n",
       "\n",
       "    .dataframe thead th {\n",
       "        text-align: right;\n",
       "    }\n",
       "</style>\n",
       "<table border=\"1\" class=\"dataframe\">\n",
       "  <thead>\n",
       "    <tr style=\"text-align: right;\">\n",
       "      <th></th>\n",
       "      <th>id</th>\n",
       "      <th>ra</th>\n",
       "      <th>dec</th>\n",
       "    </tr>\n",
       "  </thead>\n",
       "  <tbody>\n",
       "  </tbody>\n",
       "</table>\n",
       "</div>"
      ],
      "text/plain": [
       "Empty DataFrame\n",
       "Columns: [id, ra, dec]\n",
       "Index: []"
      ]
     },
     "execution_count": 35,
     "metadata": {},
     "output_type": "execute_result"
    }
   ],
   "source": [
    "df4=convert(qc.query(sql=\"SELECT * FROM mydb://table1\"))\n",
    "df4"
   ]
  },
  {
   "cell_type": "markdown",
   "metadata": {},
   "source": [
    "<a class=\"anchor\" id=\"copycmdmydb\"></a>\n",
    "### 2.6 Copying a MyDB table\n",
    "We can copy a MyDB table that currently exists in a user's MyDB database with the `mydb_copy` function and the following parameters:\n",
    "\n",
    "*source* - name of table to copy  \n",
    "*target* - name of new table with copied data from source table"
   ]
  },
  {
   "cell_type": "code",
   "execution_count": 36,
   "metadata": {},
   "outputs": [
    {
     "name": "stdout",
     "output_type": "stream",
     "text": [
      "OK\r\n"
     ]
    }
   ],
   "source": [
    "!datalab mydb_copy source=\"magsvos\" target=\"magsvos_copy\""
   ]
  },
  {
   "cell_type": "markdown",
   "metadata": {},
   "source": [
    "Let's make sure the newly copied table exists in MyDB database by calling the `mydb_list` function:"
   ]
  },
  {
   "cell_type": "code",
   "execution_count": 37,
   "metadata": {},
   "outputs": [
    {
     "name": "stdout",
     "output_type": "stream",
     "text": [
      "spec0436SPZ,created:2020-09-11 22:10:33 UTC\r\n",
      "spec0436a,created:2020-09-11 22:21:17 UTC\r\n",
      "spec,created:2020-09-15 00:37:51 UTC\r\n",
      "scan_results,created:2020-09-04 19:08:58 UTC\r\n",
      "photobj,created:2020-09-15 22:08:19 UTC\r\n",
      "table1,created:2020-09-22 22:22:47 UTC\r\n",
      "gaia_result_table,created:2020-09-22 22:23:04 UTC\r\n",
      "magsvos,created:2020-09-22 22:23:14 UTC\r\n",
      "magsvos_copy,\r\n",
      "testresult2,created:2020-08-28 19:18:13 UTC\r\n",
      "spec0436,created:2020-09-11 21:49:15 UTC\r\n",
      "\r\n"
     ]
    }
   ],
   "source": [
    "!datalab mydb_list"
   ]
  },
  {
   "cell_type": "markdown",
   "metadata": {},
   "source": [
    "<a class=\"anchor\" id=\"renamecmdmydb\"></a>\n",
    "### 2.7 Renaming a MyDB table\n",
    "We can choose to rename a MyDB table with the `mydb_rename` function and the following parameters:\n",
    "\n",
    "*old* - name of table to rename  \n",
    "*new* - new name of table"
   ]
  },
  {
   "cell_type": "code",
   "execution_count": 38,
   "metadata": {},
   "outputs": [
    {
     "name": "stdout",
     "output_type": "stream",
     "text": [
      "OK\r\n"
     ]
    }
   ],
   "source": [
    "!datalab mydb_rename old=\"magsvos_copy\" new=\"newermagsvos\""
   ]
  },
  {
   "cell_type": "markdown",
   "metadata": {},
   "source": [
    "Let's make sure the name was changed by calling the `mydb_list` function:"
   ]
  },
  {
   "cell_type": "code",
   "execution_count": 39,
   "metadata": {},
   "outputs": [
    {
     "name": "stdout",
     "output_type": "stream",
     "text": [
      "spec0436SPZ,created:2020-09-11 22:10:33 UTC\r\n",
      "spec0436a,created:2020-09-11 22:21:17 UTC\r\n",
      "spec,created:2020-09-15 00:37:51 UTC\r\n",
      "scan_results,created:2020-09-04 19:08:58 UTC\r\n",
      "photobj,created:2020-09-15 22:08:19 UTC\r\n",
      "table1,created:2020-09-22 22:22:47 UTC\r\n",
      "gaia_result_table,created:2020-09-22 22:23:04 UTC\r\n",
      "magsvos,created:2020-09-22 22:23:14 UTC\r\n",
      "newermagsvos,\r\n",
      "testresult2,created:2020-08-28 19:18:13 UTC\r\n",
      "spec0436,created:2020-09-11 21:49:15 UTC\r\n",
      "\r\n"
     ]
    }
   ],
   "source": [
    "!datalab mydb_list"
   ]
  },
  {
   "cell_type": "markdown",
   "metadata": {},
   "source": [
    "<a class=\"anchor\" id=\"dropcmdmydb\"></a>\n",
    "### 2.8 Dropping a MyDB table\n",
    "We can remove a MyDB table from a user's MyDB database by calling the `mydb_drop` function and the following parameter:\n",
    "\n",
    "*table* - name of the table we wish to remove from MyDB database"
   ]
  },
  {
   "cell_type": "code",
   "execution_count": 40,
   "metadata": {},
   "outputs": [
    {
     "name": "stdout",
     "output_type": "stream",
     "text": [
      "OK\r\n"
     ]
    }
   ],
   "source": [
    "!datalab mydb_drop table=\"newermagsvos\""
   ]
  },
  {
   "cell_type": "markdown",
   "metadata": {},
   "source": [
    "Let's make sure the MyDB table was dropped by calling the `mydb_list` function:"
   ]
  },
  {
   "cell_type": "code",
   "execution_count": 41,
   "metadata": {},
   "outputs": [
    {
     "name": "stdout",
     "output_type": "stream",
     "text": [
      "spec0436SPZ,created:2020-09-11 22:10:33 UTC\r\n",
      "spec0436a,created:2020-09-11 22:21:17 UTC\r\n",
      "spec,created:2020-09-15 00:37:51 UTC\r\n",
      "scan_results,created:2020-09-04 19:08:58 UTC\r\n",
      "photobj,created:2020-09-15 22:08:19 UTC\r\n",
      "table1,created:2020-09-22 22:22:47 UTC\r\n",
      "gaia_result_table,created:2020-09-22 22:23:04 UTC\r\n",
      "magsvos,created:2020-09-22 22:23:14 UTC\r\n",
      "testresult2,created:2020-08-28 19:18:13 UTC\r\n",
      "spec0436,created:2020-09-11 21:49:15 UTC\r\n",
      "\r\n"
     ]
    }
   ],
   "source": [
    "!datalab mydb_list"
   ]
  },
  {
   "cell_type": "markdown",
   "metadata": {},
   "source": [
    "# Clean up MyDB and VOSpace\n",
    "For clean-up purposes, let's remove the tables we created in MyDB and files/directories we created in VOSpace."
   ]
  },
  {
   "cell_type": "code",
   "execution_count": 42,
   "metadata": {},
   "outputs": [
    {
     "name": "stdout",
     "output_type": "stream",
     "text": [
      "OK\n",
      "OK\n"
     ]
    }
   ],
   "source": [
    "!datalab mydb_drop table=\"gaia_result_table\"\n",
    "!datalab mydb_drop table=\"table1\"\n",
    "!datalab rm name=\"vos://smags.csv\"\n",
    "!datalab rm name=\"vos://mysmags.csv\"\n",
    "!datalab rmdir name=\"vos://tmp\""
   ]
  }
 ],
 "metadata": {
  "kernelspec": {
   "display_name": "Python 3",
   "language": "python",
   "name": "python3"
  },
  "language_info": {
   "codemirror_mode": {
    "name": "ipython",
    "version": 3
   },
   "file_extension": ".py",
   "mimetype": "text/x-python",
   "name": "python",
   "nbconvert_exporter": "python",
   "pygments_lexer": "ipython3",
   "version": "3.7.6"
  }
 },
 "nbformat": 4,
 "nbformat_minor": 2
}
