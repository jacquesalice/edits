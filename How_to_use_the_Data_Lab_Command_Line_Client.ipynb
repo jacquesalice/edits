{
 "cells": [
  {
   "cell_type": "code",
   "execution_count": 1,
   "metadata": {},
   "outputs": [],
   "source": [
    "__author__ = 'Alice Jacques <alice.jacques@noao.edu>, NOIRLab Astro Data Lab Team <datalab@noao.edu>'\n",
    "__version__ = '20200828'\n",
    "__keywords__ = ['vospace','mydb','store files','query']"
   ]
  },
  {
   "cell_type": "markdown",
   "metadata": {},
   "source": [
    "# How to use the Data Lab *Command Line Client* Service"
   ]
  },
  {
   "cell_type": "markdown",
   "metadata": {},
   "source": [
    "### Table of Contents\n",
    "\n",
    "* [Summary](#summary)\n",
    "* [Disclaimer & attribution](#attribution)\n",
    "* [Imports & setup](#imports)\n",
    "* [Handling VOSpace directories/files via the datalab command line client](#datalabcommand)\n",
    "    - [Downloading a file](#cmddownload)\n",
    "    - [Uploading a file](#cmdupload)\n",
    "    - [Copying a file/directory](#cmdcopy)\n",
    "    - ~[Linking a file/directory](#cmdlink)~\n",
    "    - [Creating a directory](#cmdcreate)\n",
    "    - [Moving/renaming a file/directory](#cmdmove)\n",
    "    - [Deleting a file](#cmddeletefile)\n",
    "    - [Deleting a directory](#cmddeletedirectory)\n",
    "    - ~[Tagging a file/directory](#cmdtag)~\n",
    "* [Handling MyDB tables via the datalab command line client](#datalabcmdmydb)\n",
    "    - [Creating a MyDB table](#createcmdmydb)\n",
    "    - [Importing data into a MyDB table](#importcmdmydb)\n",
    "    - [Listing MyDB table schema](#listcmdmydb)\n",
    "    - [Inserting data into a MyDB table](#insertcmdmydb)\n",
    "    - [Truncating a MyDB table](#truncmdmydb)\n",
    "    - [Copying a MyDB table](#copycmdmydb)\n",
    "    - [Renaming a MyDB table](#renamecmdmydb)\n",
    "    - [Dropping a MyDB table](#dropcmdmydb)\n",
    "    \n",
    "*Note: those that are crossed out above indicate this feature is currently not working.*    "
   ]
  },
  {
   "cell_type": "markdown",
   "metadata": {},
   "source": [
    "<a class=\"anchor\" id=\"summary\"></a>\n",
    "# Summary\n",
    "\n",
    "This notebook documents how to use the Data Lab virtual storage system VOSpace and a user's personal MyDB database via the command line using the *datalab* command. The *datalab* command provides an alternate command line way to work with the auth client, query client, and store client. The API documentation can be found [here](https://datalab.noao.edu/docs/manual/UsingTheNOAODataLab/CommandLineTools/TheDatalabCommand/TheDatalabCommand.html)."
   ]
  },
  {
   "cell_type": "markdown",
   "metadata": {},
   "source": [
    "<a class=\"anchor\" id=\"attribution\"></a>\n",
    "# Disclaimer & attribution\n",
    "If you use this notebook for your published science, please acknowledge the following:\n",
    "\n",
    "* Data Lab concept paper: Fitzpatrick et al., \"The NOAO Data Laboratory: a conceptual overview\", SPIE, 9149, 2014, http://dx.doi.org/10.1117/12.2057445\n",
    "\n",
    "* Data Lab disclaimer: http://datalab.noao.edu/disclaimers.php"
   ]
  },
  {
   "cell_type": "markdown",
   "metadata": {},
   "source": [
    "<a class=\"anchor\" id=\"imports\"></a>\n",
    "# Imports & setup"
   ]
  },
  {
   "cell_type": "markdown",
   "metadata": {},
   "source": [
    "The Data Lab Command Line Client (DCLC) is a Python-based package that provides an alternate way to interact with the various Data Lab services. It can be installed with \n",
    "\n",
    "    pip install --ignore-installed --no-cache-dir noaodatalab\n",
    "    \n",
    "It is invoked via the datalab command. \n",
    "\n",
    "We need to be logged into the Data Lab to use the query client and store client. Enter your Data Lab username after '*user=*' and enter your password for Data Lab after '*password=*' below:"
   ]
  },
  {
   "cell_type": "code",
   "execution_count": 3,
   "metadata": {},
   "outputs": [
    {
     "name": "stdout",
     "output_type": "stream",
     "text": [
      "User 'ajacques' is already logged in to the Data Lab\r\n"
     ]
    }
   ],
   "source": [
    "!datalab login user=ajacques password="
   ]
  },
  {
   "cell_type": "markdown",
   "metadata": {},
   "source": [
    "<a class=\"anchor\" id=\"datalabcommand\"></a>\n",
    "# 1. Handling directories/files via the datalab command line client\n",
    "\n",
    "The *datalab* command provides a way to use a user's VOSpace. VOSpace is a convenient virtual storage space for users to save their work. It can store any data or file type."
   ]
  },
  {
   "cell_type": "markdown",
   "metadata": {},
   "source": [
    "<a class=\"anchor\" id=\"cmddownload\"></a>\n",
    "### 1.1 Downloading a file\n",
    "\n",
    "Let's say we want to download a file from our virtual storage space:"
   ]
  },
  {
   "cell_type": "code",
   "execution_count": 4,
   "metadata": {},
   "outputs": [],
   "source": [
    "!datalab get fr=\"vos://mags.csv\" to=\"./mags.csv\""
   ]
  },
  {
   "cell_type": "markdown",
   "metadata": {},
   "source": [
    "<a class=\"anchor\" id=\"cmdupload\"></a>\n",
    "### 1.2 Uploading a file\n",
    "\n",
    "Now we want to upload a new data file from our local disk:"
   ]
  },
  {
   "cell_type": "code",
   "execution_count": null,
   "metadata": {},
   "outputs": [],
   "source": [
    "!datalab put fr=\"./newmags.csv\" to=\"vos://newmags.csv\""
   ]
  },
  {
   "cell_type": "markdown",
   "metadata": {},
   "source": [
    "<a class=\"anchor\" id=\"cmdcopy\"></a>\n",
    "### 1.3 Copying a file/directory\n",
    "\n",
    "We want to put a copy of the file in a remote work directory:"
   ]
  },
  {
   "cell_type": "code",
   "execution_count": null,
   "metadata": {},
   "outputs": [],
   "source": [
    "!datalab cp fr=\"vos://newmags.csv\" to=\"vos://temp/newmags.csv\""
   ]
  },
  {
   "cell_type": "markdown",
   "metadata": {},
   "source": [
    "<a class=\"anchor\" id=\"cmdlink\"></a>\n",
    "### ~1.4 Linking to a file/directory~\n",
    "**WARNING**: Linking is currently **not** working in the Data Lab storage manager. This notebook will be updated when the problem has been resolved.\n",
    "\n",
    "Sometimes we want to create a link to a file or directory:"
   ]
  },
  {
   "cell_type": "code",
   "execution_count": null,
   "metadata": {},
   "outputs": [],
   "source": [
    "!datalab ln fr=\"vos://temp/mags.csv\" to=\"vos://mags.csv\""
   ]
  },
  {
   "cell_type": "markdown",
   "metadata": {},
   "source": [
    "<a class=\"anchor\" id=\"cmdlist\"></a>\n",
    "### 1.5 Listing a file/directory\n",
    "\n",
    "We can see all the files that are in a specific directory or get a full listing for a specific file:"
   ]
  },
  {
   "cell_type": "code",
   "execution_count": null,
   "metadata": {},
   "outputs": [],
   "source": [
    "!datalab ls name=\"vos://temp\""
   ]
  },
  {
   "cell_type": "markdown",
   "metadata": {},
   "source": [
    "<a class=\"anchor\" id=\"cmdcreate\"></a>\n",
    "### 1.6 Creating a directory\n",
    "\n",
    "We can create a directory:"
   ]
  },
  {
   "cell_type": "code",
   "execution_count": null,
   "metadata": {},
   "outputs": [],
   "source": [
    "!datalab mkdir name=\"vos://results\""
   ]
  },
  {
   "cell_type": "markdown",
   "metadata": {},
   "source": [
    "<a class=\"anchor\" id=\"cmdmove\"></a>\n",
    "### 1.7 Moving/renaming a file/directory\n",
    "\n",
    "We can move a file or directory:"
   ]
  },
  {
   "cell_type": "code",
   "execution_count": null,
   "metadata": {},
   "outputs": [],
   "source": [
    "!datalab mv fr=\"vos://temp/newmags.csv\" to=\"vos://results\""
   ]
  },
  {
   "cell_type": "markdown",
   "metadata": {},
   "source": []
  },
  {
   "cell_type": "markdown",
   "metadata": {},
   "source": [
    "<a class=\"anchor\" id=\"cmddeletefile\"></a>\n",
    "### 1.8 Deleting a file\n",
    "\n",
    "We can delete a file:"
   ]
  },
  {
   "cell_type": "code",
   "execution_count": null,
   "metadata": {},
   "outputs": [],
   "source": [
    "!datalab rm name=\"vos://temp/mags.csv\""
   ]
  },
  {
   "cell_type": "markdown",
   "metadata": {},
   "source": [
    "<a class=\"anchor\" id=\"cmddeletedirectory\"></a>\n",
    "### 1.9 Deleting a directory\n",
    "\n",
    "We can also delete a directory:"
   ]
  },
  {
   "cell_type": "code",
   "execution_count": null,
   "metadata": {},
   "outputs": [],
   "source": [
    "!datalab rmdir name=\"vos://temp\""
   ]
  },
  {
   "cell_type": "markdown",
   "metadata": {},
   "source": [
    "<a class=\"anchor\" id=\"cmdtag\"></a>\n",
    "### ~1.10 Tagging a file/directory~\n",
    "**Warning**: Tagging is currently **not** working in the Data Lab storage manager. This notebook will be updated when the problem has been resolved.\n",
    "\n",
    "We can tag any file or directory with arbitrary metadata:"
   ]
  },
  {
   "cell_type": "code",
   "execution_count": null,
   "metadata": {},
   "outputs": [],
   "source": [
    "!datalab tag name=\"vos://results\" tag=\"The results from my analysis\""
   ]
  },
  {
   "cell_type": "markdown",
   "metadata": {},
   "source": [
    "<a class=\"anchor\" id=\"datalabcmdmydb\"></a>\n",
    "# 2. Handling MyDB tables via the datalab command line client\n",
    "The *datalab* command provides a way to use a user's MyDB database. MyDB is a useful virtual storage space for users to save their work as a table. It can only store data tables."
   ]
  },
  {
   "cell_type": "markdown",
   "metadata": {},
   "source": [
    "<a class=\"anchor\" id=\"createcmdmydb\"></a>\n",
    "### 2.1 Creating a MyDB table ???\n",
    "**Unclear how to use.... creates a table with a 'schema file'? When executed the newly created table does not show up when mydb_list is called**\n",
    "\n",
    "    class MyDB_Create(Task):\n",
    "    '''\n",
    "        Create a user MyDB table.\n",
    "    '''\n",
    "    def __init__(self, datalab):\n",
    "        Task.__init__(self, datalab, 'mydb_create', 'Create a user MyDB table')\n",
    "        self.addOption(\"table\",\n",
    "            Option(\"table\", \"\", \"Table name\", required=True))\n",
    "        self.addOption(\"schema\",\n",
    "            Option(\"schema\", \"\", \"Schema file\", required=True))\n",
    "        self.addStdOptions()\n",
    "\n",
    "    def run(self):\n",
    "        token = getUserToken(self)\n",
    "        try:\n",
    "            res = queryClient.mydb_create (token, self.table.value,\n",
    "                                           self.schema.value)\n",
    "        except Exception as e:\n",
    "            print (\"Error creating table '%s': %s\" % (self.table.value,str(e)))\n",
    "        else:\n",
    "            print (res)\n"
   ]
  },
  {
   "cell_type": "code",
   "execution_count": 13,
   "metadata": {},
   "outputs": [
    {
     "name": "stdout",
     "output_type": "stream",
     "text": [
      "OK\r\n"
     ]
    }
   ],
   "source": [
    "!datalab mydb_create table=\"createdtable\" schema=\"./z_mags.csv\""
   ]
  },
  {
   "cell_type": "markdown",
   "metadata": {},
   "source": [
    "Let's make sure the table was created in MyDB by calling the *mydb_list* function:"
   ]
  },
  {
   "cell_type": "code",
   "execution_count": 14,
   "metadata": {},
   "outputs": [
    {
     "name": "stdout",
     "output_type": "stream",
     "text": [
      "c4d,created:2020-08-27 14:55:07 MST\r\n",
      "cd,created:2020-08-27 15:08:40 MST\r\n",
      "quickresults,created:2020-08-25 14:44:34 MST\r\n",
      "quickresults2,created:2020-08-25 14:46:01 MST\r\n",
      "usno_objects,created:2020-08-25 12:10:18 MST\r\n",
      "usno_test,created:2020-08-20 12:21:28 MST\r\n",
      "\r\n"
     ]
    }
   ],
   "source": [
    "!datalab mydb_list"
   ]
  },
  {
   "cell_type": "markdown",
   "metadata": {},
   "source": [
    "<a class=\"anchor\" id=\"importcmdmydb\"></a>\n",
    "### 2.2 Importing data into a MyDB table\n",
    "We can import data saved on a local computer or import data from VOSpace into a MyDB data table. The data must be in the form of either a CSV file or Pandas Dataframe object in order to load it into MyDB. Use the *mydb_import* function with the following parameters: \n",
    "\n",
    "*table* - name of the new MyDB table to create with the imported data  \n",
    "*data* - location and name of the data to import  "
   ]
  },
  {
   "cell_type": "code",
   "execution_count": null,
   "metadata": {},
   "outputs": [],
   "source": [
    "!datalab mydb_import table=\"mags\" data=\"./mags.csv\""
   ]
  },
  {
   "cell_type": "markdown",
   "metadata": {},
   "source": [
    "<a class=\"anchor\" id=\"listcmdmydb\"></a>\n",
    "### 2.3 Listing MyDB table schema\n",
    "\n",
    "We can list all of the MyDB tables currently in a user's database with the *mydb_list* function:"
   ]
  },
  {
   "cell_type": "code",
   "execution_count": null,
   "metadata": {},
   "outputs": [],
   "source": [
    "!datalab mydb_list"
   ]
  },
  {
   "cell_type": "markdown",
   "metadata": {},
   "source": [
    "We can also list the schema and schema's datatype in a specified MyDB table:"
   ]
  },
  {
   "cell_type": "code",
   "execution_count": null,
   "metadata": {},
   "outputs": [],
   "source": [
    "!datalab mydb_list table=\"mags\""
   ]
  },
  {
   "cell_type": "markdown",
   "metadata": {},
   "source": [
    "<a class=\"anchor\" id=\"insertcmdmydb\"></a>\n",
    "### 2.4 Inserting data into a MyDB table ???? \n",
    "**This is the same as import so..... is it relevant to have? Also, when the last time I ran the 'mydb_insert' cell below it froze and would not let me stop the kernal...**  \n",
    "\n",
    "    class MyDB_Insert(Task):\n",
    "    '''\n",
    "        Insert data into a user MyDB table.\n",
    "    '''\n",
    "    def __init__(self, datalab):\n",
    "        Task.__init__(self, datalab, 'mydb_insert',\n",
    "                      'Insert data into a user MyDB table')\n",
    "        self.addOption(\"table\",\n",
    "            Option(\"table\", \"\", \"Table name to create\", required=True))\n",
    "        self.addOption(\"data\",\n",
    "            Option(\"data\", \"\", \"Data file to load\", required=True))\n",
    "        self.addStdOptions()\n",
    "\n",
    "    def run(self):\n",
    "        token = getUserToken(self)\n",
    "        try:\n",
    "            res = queryClient.mydb_import (token, self.table.value,\n",
    "                                           self.data.value)\n",
    "        except Exception as e:\n",
    "            print (\"Error importing table '%s': %s\" % (self.table.value,str(e)))\n",
    "        else:\n",
    "            print (res)\n",
    "\n",
    "We can choose to insert data to a pre-existing MyDB table with the *mydb_insert* function and the following parameters:  \n",
    "\n",
    "*table* - name of the pre-existing MyDB table in which to insert *data*  \n",
    "*data* - the location and name of the data to insert into *table*  "
   ]
  },
  {
   "cell_type": "code",
   "execution_count": null,
   "metadata": {},
   "outputs": [],
   "source": [
    "query = \"select * from gaia_dr1.gaia_source limit 10\"\n",
    "qc.query (adql=query, fmt='csv', out='./gaia_result.csv')"
   ]
  },
  {
   "cell_type": "code",
   "execution_count": null,
   "metadata": {},
   "outputs": [],
   "source": [
    "!datalab mydb_insert table=\"mags\" data=\"./gaia_result.csv\""
   ]
  },
  {
   "cell_type": "code",
   "execution_count": null,
   "metadata": {},
   "outputs": [],
   "source": [
    "!datalab mydb_list table=\"mags\""
   ]
  },
  {
   "cell_type": "markdown",
   "metadata": {},
   "source": [
    "<a class=\"anchor\" id=\"truncmdmydb\"></a>\n",
    "### 2.5 Truncating a MyDB table   ????? \n",
    "**Does not truncate ... does not allow user to choose what or how much to truncate**\n",
    "\n",
    "    class MyDB_Truncate(Task):\n",
    "    '''\n",
    "        Truncate a user MyDB table.\n",
    "    '''\n",
    "    def __init__(self, datalab):\n",
    "        Task.__init__(self, datalab, 'mydb_truncate',\n",
    "                      'Truncate a user MyDB table')\n",
    "        self.addOption(\"table\",\n",
    "            Option(\"table\", \"\", \"Table name to create\", required=True))\n",
    "        self.addStdOptions()\n",
    "\n",
    "    def run(self):\n",
    "        token = getUserToken(self)\n",
    "        try:\n",
    "            res = queryClient.mydb_truncate (token, table=self.table.value)\n",
    "        except Exception as e:\n",
    "            print (\"Error truncating table '%s': %s\" % \\\n",
    "                   (self.table.value,str(e)))\n",
    "        else:\n",
    "            print (res)"
   ]
  },
  {
   "cell_type": "code",
   "execution_count": null,
   "metadata": {},
   "outputs": [],
   "source": [
    "!datalab mydb_truncate table=\"mags\" "
   ]
  },
  {
   "cell_type": "markdown",
   "metadata": {},
   "source": [
    "<a class=\"anchor\" id=\"copycmdmydb\"></a>\n",
    "### 2.6 Copying a MyDB table\n",
    "We can copy a MyDB table that currently exists in a user's MyDB database with the *mydb_copy* function and the following parameters:\n",
    "\n",
    "*source* - name of table to copy  \n",
    "*target* - name of new table with copied data from *source*"
   ]
  },
  {
   "cell_type": "code",
   "execution_count": null,
   "metadata": {},
   "outputs": [],
   "source": [
    "!datalab mydb_copy source=\"mags\" target=\"mags_copy\""
   ]
  },
  {
   "cell_type": "markdown",
   "metadata": {},
   "source": [
    "Let's make sure the newly copied table exists in MyDB database by calling the *mydb_list* function:"
   ]
  },
  {
   "cell_type": "code",
   "execution_count": null,
   "metadata": {},
   "outputs": [],
   "source": [
    "!datalab mydb_list"
   ]
  },
  {
   "cell_type": "markdown",
   "metadata": {},
   "source": [
    "<a class=\"anchor\" id=\"renamecmdmydb\"></a>\n",
    "### 2.7 Renaming a MyDB table\n",
    "We can choose to rename a MyDB table with the *mydb_rename* function and the following parameters:\n",
    "\n",
    "*old* - name of table to rename  \n",
    "*new* - new name of table"
   ]
  },
  {
   "cell_type": "code",
   "execution_count": null,
   "metadata": {},
   "outputs": [],
   "source": [
    "!datalab mydb_rename old=\"mags\" new=\"newermags\""
   ]
  },
  {
   "cell_type": "markdown",
   "metadata": {},
   "source": [
    "Let's make sure the name was changed by calling the *mydb_list* function:"
   ]
  },
  {
   "cell_type": "code",
   "execution_count": null,
   "metadata": {},
   "outputs": [],
   "source": [
    "!datalab mydb_list"
   ]
  },
  {
   "cell_type": "markdown",
   "metadata": {},
   "source": [
    "<a class=\"anchor\" id=\"dropcmdmydb\"></a>\n",
    "### 2.8 Dropping a MyDB table\n",
    "We can remove a MyDB table from a user's MyDB database by calling the *mydb_drop* function and the following parameter:\n",
    "\n",
    "*table* - name of the table we wish to remove from MyDB database"
   ]
  },
  {
   "cell_type": "code",
   "execution_count": 10,
   "metadata": {},
   "outputs": [
    {
     "name": "stdout",
     "output_type": "stream",
     "text": [
      "OK\r\n"
     ]
    }
   ],
   "source": [
    "!datalab mydb_drop table=\"newermags\""
   ]
  },
  {
   "cell_type": "markdown",
   "metadata": {},
   "source": [
    "Let's make sure the MyDB table was dropped by calling the *mydb_list* function:"
   ]
  },
  {
   "cell_type": "code",
   "execution_count": 11,
   "metadata": {},
   "outputs": [
    {
     "name": "stdout",
     "output_type": "stream",
     "text": [
      "c4d,created:2020-08-27 14:55:07 MST\r\n",
      "cd,created:2020-08-27 15:08:40 MST\r\n",
      "quickresults,created:2020-08-25 14:44:34 MST\r\n",
      "quickresults2,created:2020-08-25 14:46:01 MST\r\n",
      "usno_objects,created:2020-08-25 12:10:18 MST\r\n",
      "usno_test,created:2020-08-20 12:21:28 MST\r\n",
      "\r\n"
     ]
    }
   ],
   "source": [
    "!datalab mydb_list"
   ]
  }
 ],
 "metadata": {
  "kernelspec": {
   "display_name": "Python 3",
   "language": "python",
   "name": "python3"
  },
  "language_info": {
   "codemirror_mode": {
    "name": "ipython",
    "version": 3
   },
   "file_extension": ".py",
   "mimetype": "text/x-python",
   "name": "python",
   "nbconvert_exporter": "python",
   "pygments_lexer": "ipython3",
   "version": "3.7.4"
  }
 },
 "nbformat": 4,
 "nbformat_minor": 2
}
