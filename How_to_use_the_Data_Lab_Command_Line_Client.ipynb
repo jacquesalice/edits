{
 "cells": [
  {
   "cell_type": "code",
   "execution_count": 1,
   "metadata": {},
   "outputs": [],
   "source": [
    "__author__ = 'Alice Jacques <alice.jacques@noao.edu>, NOIRLab Astro Data Lab Team <datalab@noao.edu>'\n",
    "__version__ = '20200904'\n",
    "__keywords__ = ['vospace','mydb','store files','query']"
   ]
  },
  {
   "cell_type": "markdown",
   "metadata": {},
   "source": [
    "# How to use the Data Lab *Command Line Client* Service"
   ]
  },
  {
   "cell_type": "markdown",
   "metadata": {},
   "source": [
    "### Table of Contents\n",
    "\n",
    "* [Summary](#summary)\n",
    "* [Disclaimer & attribution](#attribution)\n",
    "* [Imports & setup](#imports)\n",
    "* [Handling VOSpace directories/files via the datalab command line client](#datalabcommand)\n",
    "    - [Uploading a file](#cmdupload)\n",
    "    - [Downloading a file](#cmddownload)\n",
    "    - [Copying a file/directory](#cmdcopy)\n",
    "    - ~[Linking a file/directory](#cmdlink)~\n",
    "    - [Creating a directory](#cmdcreate)\n",
    "    - [Moving a file/directory](#cmdmove)\n",
    "    - [Deleting a file](#cmddeletefile)\n",
    "    - [Deleting a directory](#cmddeletedirectory)\n",
    "    - ~[Tagging a file/directory](#cmdtag)~\n",
    "* [Handling MyDB tables via the datalab command line client](#datalabcmdmydb)\n",
    "    - [Listing MyDB tables and a table's schema](#listcmdmydb)\n",
    "    - [Creating a MyDB table](#createcmdmydb)\n",
    "    - [Inserting data into a MyDB table](#insertcmdmydb)\n",
    "    - [Importing data into a MyDB table](#importcmdmydb)\n",
    "    - [Truncating a MyDB table](#truncmdmydb)\n",
    "    - [Copying a MyDB table](#copycmdmydb)\n",
    "    - [Renaming a MyDB table](#renamecmdmydb)\n",
    "    - [Dropping a MyDB table](#dropcmdmydb)\n",
    "    \n",
    "*Note: those that are crossed out above indicate this feature is currently not working.*    "
   ]
  },
  {
   "cell_type": "markdown",
   "metadata": {},
   "source": [
    "<a class=\"anchor\" id=\"summary\"></a>\n",
    "# Summary\n",
    "\n",
    "This notebook documents how to use the Data Lab virtual storage system VOSpace and a user's personal MyDB database via the command line using the *datalab* command. The *datalab* command provides an alternate command line way to work with the auth client, query client, and store client. The API documentation can be found [here](https://datalab.noao.edu/docs/manual/UsingTheNOAODataLab/CommandLineTools/TheDatalabCommand/TheDatalabCommand.html)."
   ]
  },
  {
   "cell_type": "markdown",
   "metadata": {},
   "source": [
    "<a class=\"anchor\" id=\"attribution\"></a>\n",
    "# Disclaimer & attribution\n",
    "If you use this notebook for your published science, please acknowledge the following:\n",
    "\n",
    "* Data Lab concept paper: Fitzpatrick et al., \"The NOAO Data Laboratory: a conceptual overview\", SPIE, 9149, 2014, http://dx.doi.org/10.1117/12.2057445\n",
    "\n",
    "* Data Lab disclaimer: http://datalab.noao.edu/disclaimers.php"
   ]
  },
  {
   "cell_type": "markdown",
   "metadata": {},
   "source": [
    "<a class=\"anchor\" id=\"imports\"></a>\n",
    "# Imports & setup"
   ]
  },
  {
   "cell_type": "code",
   "execution_count": 2,
   "metadata": {},
   "outputs": [],
   "source": [
    "from dl import queryClient as qc\n",
    "from dl.helpers.utils import convert"
   ]
  },
  {
   "cell_type": "markdown",
   "metadata": {},
   "source": [
    "The Data Lab Command Line Client (DCLC) is a Python-based package that provides an alternate way to interact with the various Data Lab services. It can be installed with \n",
    "\n",
    "    pip install --ignore-installed --no-cache-dir noaodatalab\n",
    "    \n",
    "It is invoked via the datalab command. \n",
    "\n",
    "We need to be logged into the Data Lab to use the query client and store client. Enter your Data Lab username after '*user=*' and enter your password for Data Lab after '*password=*' below:"
   ]
  },
  {
   "cell_type": "code",
   "execution_count": 3,
   "metadata": {},
   "outputs": [
    {
     "name": "stdout",
     "output_type": "stream",
     "text": [
      "User 'ajacques' is already logged in to the Data Lab\r\n"
     ]
    }
   ],
   "source": [
    "!datalab login user=ajacques password="
   ]
  },
  {
   "cell_type": "markdown",
   "metadata": {},
   "source": [
    "<a class=\"anchor\" id=\"datalabcommand\"></a>\n",
    "# 1. Handling directories/files via the datalab command line client\n",
    "\n",
    "The *datalab* command provides a way to use a user's VOSpace. VOSpace is a convenient virtual storage space for users to save their work. It can store any data or file type."
   ]
  },
  {
   "cell_type": "markdown",
   "metadata": {},
   "source": [
    "Before we start this section, let's first query some example data from a Data Lab database and save it locally as a CSV file named `smags.csv`:"
   ]
  },
  {
   "cell_type": "code",
   "execution_count": 51,
   "metadata": {},
   "outputs": [
    {
     "data": {
      "text/plain": [
       "'OK'"
      ]
     },
     "execution_count": 51,
     "metadata": {},
     "output_type": "execute_result"
    }
   ],
   "source": [
    "query = 'SELECT gmag, imag, rmag, zmag FROM smash_dr1.object LIMIT 10'\n",
    "qc.query(adql=query,fmt='csv',out='./smags.csv')"
   ]
  },
  {
   "cell_type": "markdown",
   "metadata": {},
   "source": [
    "<a class=\"anchor\" id=\"cmdupload\"></a>\n",
    "### 1.1 Uploading a file\n",
    "\n",
    "Let's say we want to upload a file from our local disk to the virtual storage:"
   ]
  },
  {
   "cell_type": "code",
   "execution_count": 52,
   "metadata": {},
   "outputs": [],
   "source": [
    "!datalab put fr=\"./smags.csv\" to=\"vos://smags.csv\""
   ]
  },
  {
   "cell_type": "markdown",
   "metadata": {},
   "source": [
    "<a class=\"anchor\" id=\"cmddownload\"></a>\n",
    "### 1.2 Downloading a file\n",
    "\n",
    "Let's say we want to download a file from our virtual storage space, in this case the csv file that we uploaded to it in the last cell:"
   ]
  },
  {
   "cell_type": "code",
   "execution_count": 53,
   "metadata": {},
   "outputs": [],
   "source": [
    "!datalab get fr=\"vos://smags.csv\" to=\"./mysmags.csv\""
   ]
  },
  {
   "cell_type": "markdown",
   "metadata": {},
   "source": [
    "<a class=\"anchor\" id=\"cmdcopy\"></a>\n",
    "### 1.3 Copying a file/directory\n",
    "\n",
    "We want to put a copy of the file in a remote work directory:"
   ]
  },
  {
   "cell_type": "code",
   "execution_count": 54,
   "metadata": {},
   "outputs": [],
   "source": [
    "!datalab cp fr=\"vos://smags.csv\" to=\"vos://tmp/smags.csv\""
   ]
  },
  {
   "cell_type": "markdown",
   "metadata": {},
   "source": [
    "<a class=\"anchor\" id=\"cmdlink\"></a>\n",
    "### ~1.4 Linking to a file/directory~\n",
    "**WARNING**: Linking is currently **not** working in the Data Lab storage manager. This notebook will be updated when the problem has been resolved.\n",
    "\n",
    "Sometimes we want to create a link to a file or directory:"
   ]
  },
  {
   "cell_type": "code",
   "execution_count": null,
   "metadata": {},
   "outputs": [],
   "source": [
    "#!datalab ln fr=\"vos://temp/mags.csv\" to=\"vos://mags.csv\""
   ]
  },
  {
   "cell_type": "markdown",
   "metadata": {},
   "source": [
    "<a class=\"anchor\" id=\"cmdlist\"></a>\n",
    "### 1.5 Listing a file/directory\n",
    "\n",
    "We can see all the files that are in a specific directory or get a full listing for a specific file:"
   ]
  },
  {
   "cell_type": "code",
   "execution_count": 59,
   "metadata": {},
   "outputs": [
    {
     "name": "stdout",
     "output_type": "stream",
     "text": [
      "mags.csv\r\n"
     ]
    }
   ],
   "source": [
    "!datalab ls name=\"vos://tmp\""
   ]
  },
  {
   "cell_type": "markdown",
   "metadata": {},
   "source": [
    "<a class=\"anchor\" id=\"cmdcreate\"></a>\n",
    "### 1.6 Creating a directory\n",
    "\n",
    "We can create a directory:"
   ]
  },
  {
   "cell_type": "code",
   "execution_count": 56,
   "metadata": {},
   "outputs": [],
   "source": [
    "!datalab mkdir name=\"vos://results\""
   ]
  },
  {
   "cell_type": "markdown",
   "metadata": {},
   "source": [
    "<a class=\"anchor\" id=\"cmdmove\"></a>\n",
    "### 1.7 Moving a file/directory\n",
    "\n",
    "We can move a file or directory:"
   ]
  },
  {
   "cell_type": "code",
   "execution_count": 57,
   "metadata": {},
   "outputs": [],
   "source": [
    "!datalab mv fr=\"vos://tmp/smags.csv\" to=\"vos://results\""
   ]
  },
  {
   "cell_type": "markdown",
   "metadata": {},
   "source": [
    "<a class=\"anchor\" id=\"cmddeletefile\"></a>\n",
    "### 1.8 Deleting a file\n",
    "\n",
    "We can delete a file:"
   ]
  },
  {
   "cell_type": "code",
   "execution_count": 33,
   "metadata": {},
   "outputs": [],
   "source": [
    "!datalab rm name=\"vos://results/smags.csv\""
   ]
  },
  {
   "cell_type": "markdown",
   "metadata": {},
   "source": [
    "<a class=\"anchor\" id=\"cmddeletedirectory\"></a>\n",
    "### 1.9 Deleting a directory\n",
    "\n",
    "We can also delete a directory:"
   ]
  },
  {
   "cell_type": "code",
   "execution_count": 60,
   "metadata": {},
   "outputs": [],
   "source": [
    "!datalab rmdir name=\"vos://results\""
   ]
  },
  {
   "cell_type": "markdown",
   "metadata": {},
   "source": [
    "<a class=\"anchor\" id=\"cmdtag\"></a>\n",
    "### ~1.10 Tagging a file/directory~\n",
    "**Warning**: Tagging is currently **not** working in the Data Lab storage manager. This notebook will be updated when the problem has been resolved.\n",
    "\n",
    "We can tag any file or directory with arbitrary metadata:"
   ]
  },
  {
   "cell_type": "code",
   "execution_count": null,
   "metadata": {},
   "outputs": [],
   "source": [
    "#!datalab tag name=\"vos://results\" tag=\"The results from my analysis\""
   ]
  },
  {
   "cell_type": "markdown",
   "metadata": {},
   "source": [
    "<a class=\"anchor\" id=\"datalabcmdmydb\"></a>\n",
    "# 2. Handling MyDB tables via the datalab command line client\n",
    "The *datalab* command provides a way to use a user's MyDB database. MyDB is a useful virtual storage space for users to save their work as a table. It can only store data tables. **_NOTE: The data must be in the form of either a CSV file or Pandas Dataframe object in order to load it into MyDB._**"
   ]
  },
  {
   "cell_type": "markdown",
   "metadata": {},
   "source": [
    "<a class=\"anchor\" id=\"listcmdmydb\"></a>\n",
    "### 2.1 Listing MyDB tables and a table's schema\n",
    "\n",
    "We can list all of the MyDB tables currently in a user's database with the *mydb_list* function:"
   ]
  },
  {
   "cell_type": "code",
   "execution_count": 3,
   "metadata": {},
   "outputs": [
    {
     "name": "stdout",
     "output_type": "stream",
     "text": [
      "c4d,created:2020-08-27 14:55:07 MST\r\n",
      "cd,created:2020-08-27 15:08:40 MST\r\n",
      "gaia_result_table,created:2020-09-04 15:59:48 MST\r\n",
      "quickresults,created:2020-08-25 14:44:34 MST\r\n",
      "quickresults2,created:2020-08-25 14:46:01 MST\r\n",
      "usno_objects,created:2020-09-02 12:17:52 MST\r\n",
      "\r\n"
     ]
    }
   ],
   "source": [
    "!datalab mydb_list"
   ]
  },
  {
   "cell_type": "markdown",
   "metadata": {},
   "source": [
    "We can also list the schema and schema's datatype in a specified MyDB table:"
   ]
  },
  {
   "cell_type": "code",
   "execution_count": null,
   "metadata": {},
   "outputs": [],
   "source": [
    "!datalab mydb_list table=\"usno_objects\""
   ]
  },
  {
   "cell_type": "markdown",
   "metadata": {},
   "source": [
    "<a class=\"anchor\" id=\"createcmdmydb\"></a>\n",
    "### 2.2 Creating a MyDB table \n",
    "We can create a new empty MyDB table with a user-provided schema file using the *mydb_create* function with the following parameters:\n",
    "\n",
    "*table* - name of the new MyDB table to create  \n",
    "*schema* - location and name of the schema definition to be in the table\n",
    "\n",
    "The schema definition is stored in a text file, in this case in the user notebook directory. The schema definition file is a CSV-formatted file that contains column name and (Postgres) data type, one row per column. The general format is:\n",
    "\n",
    "`Columnname1,datatype1\\nColumnname2,datatype2\\nColumnname3,datatype3`\n",
    "\n",
    "Let's first create a simple (id,ra,dec) schema of a text string and two double values and save it locally as a text file named `schema.txt`:"
   ]
  },
  {
   "cell_type": "code",
   "execution_count": null,
   "metadata": {},
   "outputs": [],
   "source": [
    "schema_str = 'id,text\\nra,double precision\\ndec,double precision\\n'\n",
    "with open ('schema.txt','w') as fd:\n",
    "    fd.write (schema_str)"
   ]
  },
  {
   "cell_type": "markdown",
   "metadata": {},
   "source": [
    "Now let's use the *mydb_create* function to make a new table in MyDB with the schema definition we created above:"
   ]
  },
  {
   "cell_type": "code",
   "execution_count": 5,
   "metadata": {},
   "outputs": [
    {
     "name": "stdout",
     "output_type": "stream",
     "text": [
      "OK\r\n"
     ]
    }
   ],
   "source": [
    "!datalab mydb_create table=\"createdtable\" schema=\"./schema.txt\""
   ]
  },
  {
   "cell_type": "markdown",
   "metadata": {},
   "source": [
    "Let's make sure the table was created in MyDB by calling the *mydb_list* function:"
   ]
  },
  {
   "cell_type": "code",
   "execution_count": 6,
   "metadata": {},
   "outputs": [
    {
     "name": "stdout",
     "output_type": "stream",
     "text": [
      "c4d,created:2020-08-27 14:55:07 MST\r\n",
      "cd,created:2020-08-27 15:08:40 MST\r\n",
      "createdtable,created:2020-09-04 17:00:56 MST\r\n",
      "gaia_result_table,created:2020-09-04 15:59:48 MST\r\n",
      "quickresults,created:2020-08-25 14:44:34 MST\r\n",
      "quickresults2,created:2020-08-25 14:46:01 MST\r\n",
      "usno_objects,created:2020-09-02 12:17:52 MST\r\n",
      "\r\n"
     ]
    }
   ],
   "source": [
    "!datalab mydb_list"
   ]
  },
  {
   "cell_type": "markdown",
   "metadata": {},
   "source": [
    "Let's also make sure the schema was loaded into the table by calling the *mydb_list* function on the table:"
   ]
  },
  {
   "cell_type": "code",
   "execution_count": 7,
   "metadata": {},
   "outputs": [
    {
     "name": "stdout",
     "output_type": "stream",
     "text": [
      "id,text,\r\n",
      "ra,double precision,\r\n",
      "dec,double precision,\r\n",
      "\r\n"
     ]
    }
   ],
   "source": [
    "!datalab mydb_list table=\"createdtable\""
   ]
  },
  {
   "cell_type": "markdown",
   "metadata": {},
   "source": [
    "<a class=\"anchor\" id=\"insertcmdmydb\"></a>\n",
    "### 2.3 Inserting data into a MyDB table ???? \n",
    "**This is the same as import so..... is it relevant to have? Also, when the last time I ran the 'mydb_insert' cell below it froze and would not let me stop the kernal...**  \n",
    "\n",
    "    class MyDB_Insert(Task):\n",
    "    '''\n",
    "        Insert data into a user MyDB table.\n",
    "    '''\n",
    "    def __init__(self, datalab):\n",
    "        Task.__init__(self, datalab, 'mydb_insert',\n",
    "                      'Insert data into a user MyDB table')\n",
    "        self.addOption(\"table\",\n",
    "            Option(\"table\", \"\", \"Table name to create\", required=True))\n",
    "        self.addOption(\"data\",\n",
    "            Option(\"data\", \"\", \"Data file to load\", required=True))\n",
    "        self.addStdOptions()\n",
    "\n",
    "    def run(self):\n",
    "        token = getUserToken(self)\n",
    "        try:\n",
    "            res = queryClient.mydb_import (token, self.table.value,\n",
    "                                           self.data.value)\n",
    "        except Exception as e:\n",
    "            print (\"Error importing table '%s': %s\" % (self.table.value,str(e)))\n",
    "        else:\n",
    "            print (res)\n",
    "\n",
    "We can choose to insert data saved on a local computer or insert data from VOSpace into a pre-existing MyDB table. The data must be in the form of either a CSV file or Pandas Dataframe object in order to load it into MyDB. Use the *mydb_insert* function and the following parameters:  \n",
    "\n",
    "*table* - name of the pre-existing MyDB table in which to insert the data  \n",
    "*data* - location and name of the data to insert into the table"
   ]
  },
  {
   "cell_type": "markdown",
   "metadata": {},
   "source": [
    "Let's first create some sample data and save it locally as a CSV file named `sampledata.csv`:"
   ]
  },
  {
   "cell_type": "code",
   "execution_count": null,
   "metadata": {},
   "outputs": [],
   "source": [
    "sampledata_str = 'one,22.3,12.4,two,22.3,12.4,three,22.3,12.4,four,22.3,12.4,five,22.3,12.4'\n",
    "with open ('sampledata.csv','w') as fd:\n",
    "    fd.write (sampledata_str)"
   ]
  },
  {
   "cell_type": "markdown",
   "metadata": {},
   "source": [
    "Now let's insert the `sampledata.csv` data into the `createdtable` table we created a few cells above:"
   ]
  },
  {
   "cell_type": "code",
   "execution_count": null,
   "metadata": {},
   "outputs": [],
   "source": [
    "!datalab mydb_insert table=\"createdtable\" data=\"./sampledata.csv\""
   ]
  },
  {
   "cell_type": "markdown",
   "metadata": {},
   "source": [
    "**FROM A PYTHON SCRIPT (i.e. within this notebook, not on command line):** Let's make sure the data was inserted into the table by converting the table into a Pandas Dataframe and printing it on-screen:"
   ]
  },
  {
   "cell_type": "code",
   "execution_count": null,
   "metadata": {},
   "outputs": [],
   "source": [
    "df1=convert(qc.query(sql=\"SELECT * FROM mydb://createdtable\"))\n",
    "df1"
   ]
  },
  {
   "cell_type": "markdown",
   "metadata": {},
   "source": [
    "<a class=\"anchor\" id=\"importcmdmydb\"></a>\n",
    "### 2.4 Importing data into a MyDB table\n",
    "We can import data saved on a local computer or import data from VOSpace into a MyDB data table. The data must be in the form of either a CSV file or Pandas Dataframe object in order to load it into MyDB. Use the *mydb_import* function with the following parameters: \n",
    "\n",
    "*table* - name of the new MyDB table to create with the imported data  \n",
    "*data* - location and name of the data to import  "
   ]
  },
  {
   "cell_type": "markdown",
   "metadata": {},
   "source": [
    "Let's first query some example data from a Data Lab database and save it locally as a CSV file named `gaia_result.csv`:"
   ]
  },
  {
   "cell_type": "code",
   "execution_count": 8,
   "metadata": {},
   "outputs": [
    {
     "data": {
      "text/plain": [
       "'OK'"
      ]
     },
     "execution_count": 8,
     "metadata": {},
     "output_type": "execute_result"
    }
   ],
   "source": [
    "query = \"select * from gaia_dr1.gaia_source limit 10\"\n",
    "qc.query (adql=query, fmt='csv', out='./gaia_result.csv')"
   ]
  },
  {
   "cell_type": "markdown",
   "metadata": {},
   "source": [
    "Now we can import the queried data into a new MyDB table:"
   ]
  },
  {
   "cell_type": "code",
   "execution_count": 9,
   "metadata": {},
   "outputs": [
    {
     "name": "stdout",
     "output_type": "stream",
     "text": [
      "OK\r\n"
     ]
    }
   ],
   "source": [
    "!datalab mydb_import table=\"gaia_result_table\" data=\"./gaia_result.csv\""
   ]
  },
  {
   "cell_type": "markdown",
   "metadata": {},
   "source": [
    "Let's make sure the table was created in MyDB by calling the *mydb_list* function:"
   ]
  },
  {
   "cell_type": "code",
   "execution_count": 10,
   "metadata": {},
   "outputs": [
    {
     "name": "stdout",
     "output_type": "stream",
     "text": [
      "c4d,created:2020-08-27 14:55:07 MST\r\n",
      "cd,created:2020-08-27 15:08:40 MST\r\n",
      "createdtable,created:2020-09-04 17:00:56 MST\r\n",
      "gaia_result_table,created:2020-09-04 17:06:05 MST\r\n",
      "quickresults,created:2020-08-25 14:44:34 MST\r\n",
      "quickresults2,created:2020-08-25 14:46:01 MST\r\n",
      "usno_objects,created:2020-09-02 12:17:52 MST\r\n",
      "\r\n"
     ]
    }
   ],
   "source": [
    "!datalab mydb_list"
   ]
  },
  {
   "cell_type": "markdown",
   "metadata": {},
   "source": [
    "**FROM A PYTHON SCRIPT (i.e. within this notebook, not on command line):** Let's also make sure the data was imported into the table by converting the table into a Pandas Dataframe and printing it on-screen:"
   ]
  },
  {
   "cell_type": "code",
   "execution_count": 11,
   "metadata": {},
   "outputs": [
    {
     "data": {
      "text/html": [
       "<div>\n",
       "<style scoped>\n",
       "    .dataframe tbody tr th:only-of-type {\n",
       "        vertical-align: middle;\n",
       "    }\n",
       "\n",
       "    .dataframe tbody tr th {\n",
       "        vertical-align: top;\n",
       "    }\n",
       "\n",
       "    .dataframe thead th {\n",
       "        text-align: right;\n",
       "    }\n",
       "</style>\n",
       "<table border=\"1\" class=\"dataframe\">\n",
       "  <thead>\n",
       "    <tr style=\"text-align: right;\">\n",
       "      <th></th>\n",
       "      <th>pmdec_error</th>\n",
       "      <th>ra_dec_corr</th>\n",
       "      <th>solution_id</th>\n",
       "      <th>source_id</th>\n",
       "      <th>random_index</th>\n",
       "      <th>htm9</th>\n",
       "      <th>ring256</th>\n",
       "      <th>nest256</th>\n",
       "      <th>ref_epoch</th>\n",
       "      <th>ra</th>\n",
       "      <th>...</th>\n",
       "      <th>scan_direction_mean_k4</th>\n",
       "      <th>phot_g_n_obs</th>\n",
       "      <th>phot_g_mean_flux</th>\n",
       "      <th>phot_g_mean_flux_error</th>\n",
       "      <th>phot_g_mean_mag</th>\n",
       "      <th>phot_variable_flag</th>\n",
       "      <th>l</th>\n",
       "      <th>b</th>\n",
       "      <th>ecl_lon</th>\n",
       "      <th>ecl_lat</th>\n",
       "    </tr>\n",
       "  </thead>\n",
       "  <tbody>\n",
       "    <tr>\n",
       "      <td>0</td>\n",
       "      <td>NaN</td>\n",
       "      <td>-0.70700</td>\n",
       "      <td>380766208</td>\n",
       "      <td>5282605037517288</td>\n",
       "      <td>3802459346013519872</td>\n",
       "      <td>2882253</td>\n",
       "      <td>NaN</td>\n",
       "      <td>NaN</td>\n",
       "      <td>2015</td>\n",
       "      <td>219.386098</td>\n",
       "      <td>...</td>\n",
       "      <td>-23.588076</td>\n",
       "      <td>59</td>\n",
       "      <td>105.231307</td>\n",
       "      <td>2.212695</td>\n",
       "      <td>20.469408</td>\n",
       "      <td>NOT_AVAILABLE</td>\n",
       "      <td>325.929432</td>\n",
       "      <td>22.186421</td>\n",
       "      <td>228.387787</td>\n",
       "      <td>-19.485247</td>\n",
       "    </tr>\n",
       "    <tr>\n",
       "      <td>1</td>\n",
       "      <td>NaN</td>\n",
       "      <td>-0.60135</td>\n",
       "      <td>380766208</td>\n",
       "      <td>19155693000980960</td>\n",
       "      <td>3607672949823242240</td>\n",
       "      <td>2882253</td>\n",
       "      <td>NaN</td>\n",
       "      <td>NaN</td>\n",
       "      <td>2015</td>\n",
       "      <td>219.382135</td>\n",
       "      <td>...</td>\n",
       "      <td>-26.038597</td>\n",
       "      <td>51</td>\n",
       "      <td>2787.417442</td>\n",
       "      <td>5.019928</td>\n",
       "      <td>16.911765</td>\n",
       "      <td>NOT_AVAILABLE</td>\n",
       "      <td>325.926819</td>\n",
       "      <td>22.188809</td>\n",
       "      <td>228.384182</td>\n",
       "      <td>-19.485238</td>\n",
       "    </tr>\n",
       "    <tr>\n",
       "      <td>2</td>\n",
       "      <td>NaN</td>\n",
       "      <td>0.13645</td>\n",
       "      <td>380766208</td>\n",
       "      <td>5307344049142200</td>\n",
       "      <td>4709030434283978752</td>\n",
       "      <td>2882253</td>\n",
       "      <td>NaN</td>\n",
       "      <td>NaN</td>\n",
       "      <td>2015</td>\n",
       "      <td>219.393581</td>\n",
       "      <td>...</td>\n",
       "      <td>-24.180206</td>\n",
       "      <td>85</td>\n",
       "      <td>144.531456</td>\n",
       "      <td>1.828985</td>\n",
       "      <td>20.124864</td>\n",
       "      <td>NOT_AVAILABLE</td>\n",
       "      <td>325.937941</td>\n",
       "      <td>22.188877</td>\n",
       "      <td>228.391928</td>\n",
       "      <td>-19.477976</td>\n",
       "    </tr>\n",
       "    <tr>\n",
       "      <td>3</td>\n",
       "      <td>NaN</td>\n",
       "      <td>-0.99045</td>\n",
       "      <td>380766208</td>\n",
       "      <td>5247420665428392</td>\n",
       "      <td>4281789481637380096</td>\n",
       "      <td>2882242</td>\n",
       "      <td>NaN</td>\n",
       "      <td>NaN</td>\n",
       "      <td>2015</td>\n",
       "      <td>219.399990</td>\n",
       "      <td>...</td>\n",
       "      <td>-30.753368</td>\n",
       "      <td>98</td>\n",
       "      <td>6724.071722</td>\n",
       "      <td>5.852034</td>\n",
       "      <td>15.955689</td>\n",
       "      <td>NOT_AVAILABLE</td>\n",
       "      <td>325.934411</td>\n",
       "      <td>22.169914</td>\n",
       "      <td>228.403543</td>\n",
       "      <td>-19.493801</td>\n",
       "    </tr>\n",
       "    <tr>\n",
       "      <td>4</td>\n",
       "      <td>NaN</td>\n",
       "      <td>-0.81295</td>\n",
       "      <td>380766208</td>\n",
       "      <td>7754307176757673</td>\n",
       "      <td>2131676171190927360</td>\n",
       "      <td>2882253</td>\n",
       "      <td>NaN</td>\n",
       "      <td>NaN</td>\n",
       "      <td>2015</td>\n",
       "      <td>219.401910</td>\n",
       "      <td>...</td>\n",
       "      <td>-23.287327</td>\n",
       "      <td>69</td>\n",
       "      <td>306.952384</td>\n",
       "      <td>2.990556</td>\n",
       "      <td>19.307093</td>\n",
       "      <td>NOT_AVAILABLE</td>\n",
       "      <td>325.936628</td>\n",
       "      <td>22.170610</td>\n",
       "      <td>228.404580</td>\n",
       "      <td>-19.491865</td>\n",
       "    </tr>\n",
       "    <tr>\n",
       "      <td>5</td>\n",
       "      <td>NaN</td>\n",
       "      <td>-0.99565</td>\n",
       "      <td>380766208</td>\n",
       "      <td>5261714316589480</td>\n",
       "      <td>2263435610234552320</td>\n",
       "      <td>2882253</td>\n",
       "      <td>NaN</td>\n",
       "      <td>NaN</td>\n",
       "      <td>2015</td>\n",
       "      <td>219.408167</td>\n",
       "      <td>...</td>\n",
       "      <td>-31.125006</td>\n",
       "      <td>93</td>\n",
       "      <td>12291.791472</td>\n",
       "      <td>7.985610</td>\n",
       "      <td>15.300732</td>\n",
       "      <td>NOT_AVAILABLE</td>\n",
       "      <td>325.942983</td>\n",
       "      <td>22.171185</td>\n",
       "      <td>228.408608</td>\n",
       "      <td>-19.487332</td>\n",
       "    </tr>\n",
       "    <tr>\n",
       "      <td>6</td>\n",
       "      <td>NaN</td>\n",
       "      <td>-0.12870</td>\n",
       "      <td>380766208</td>\n",
       "      <td>7765302293035433</td>\n",
       "      <td>1164227542157099008</td>\n",
       "      <td>2882253</td>\n",
       "      <td>NaN</td>\n",
       "      <td>NaN</td>\n",
       "      <td>2015</td>\n",
       "      <td>219.409928</td>\n",
       "      <td>...</td>\n",
       "      <td>-23.373909</td>\n",
       "      <td>84</td>\n",
       "      <td>133.231945</td>\n",
       "      <td>1.712889</td>\n",
       "      <td>20.213249</td>\n",
       "      <td>NOT_AVAILABLE</td>\n",
       "      <td>325.943448</td>\n",
       "      <td>22.168769</td>\n",
       "      <td>228.410729</td>\n",
       "      <td>-19.488756</td>\n",
       "    </tr>\n",
       "    <tr>\n",
       "      <td>7</td>\n",
       "      <td>NaN</td>\n",
       "      <td>-0.89365</td>\n",
       "      <td>380766208</td>\n",
       "      <td>5256766514264488</td>\n",
       "      <td>3356372102641876992</td>\n",
       "      <td>2882253</td>\n",
       "      <td>NaN</td>\n",
       "      <td>NaN</td>\n",
       "      <td>2015</td>\n",
       "      <td>219.401041</td>\n",
       "      <td>...</td>\n",
       "      <td>-23.300661</td>\n",
       "      <td>68</td>\n",
       "      <td>1337.260831</td>\n",
       "      <td>12.173469</td>\n",
       "      <td>17.709230</td>\n",
       "      <td>NOT_AVAILABLE</td>\n",
       "      <td>325.936580</td>\n",
       "      <td>22.172155</td>\n",
       "      <td>228.403398</td>\n",
       "      <td>-19.490794</td>\n",
       "    </tr>\n",
       "    <tr>\n",
       "      <td>8</td>\n",
       "      <td>NaN</td>\n",
       "      <td>-0.03625</td>\n",
       "      <td>380766208</td>\n",
       "      <td>5277107479378688</td>\n",
       "      <td>1765130867442712576</td>\n",
       "      <td>2882253</td>\n",
       "      <td>NaN</td>\n",
       "      <td>NaN</td>\n",
       "      <td>2015</td>\n",
       "      <td>219.410698</td>\n",
       "      <td>...</td>\n",
       "      <td>-23.792971</td>\n",
       "      <td>86</td>\n",
       "      <td>207.345161</td>\n",
       "      <td>2.346311</td>\n",
       "      <td>19.733035</td>\n",
       "      <td>NOT_AVAILABLE</td>\n",
       "      <td>325.947960</td>\n",
       "      <td>22.176103</td>\n",
       "      <td>228.408443</td>\n",
       "      <td>-19.480594</td>\n",
       "    </tr>\n",
       "    <tr>\n",
       "      <td>9</td>\n",
       "      <td>NaN</td>\n",
       "      <td>-0.14785</td>\n",
       "      <td>380766208</td>\n",
       "      <td>5251268956125608</td>\n",
       "      <td>4898152713503637504</td>\n",
       "      <td>2882253</td>\n",
       "      <td>NaN</td>\n",
       "      <td>NaN</td>\n",
       "      <td>2015</td>\n",
       "      <td>219.416133</td>\n",
       "      <td>...</td>\n",
       "      <td>-23.608847</td>\n",
       "      <td>94</td>\n",
       "      <td>253.515705</td>\n",
       "      <td>2.048341</td>\n",
       "      <td>19.514758</td>\n",
       "      <td>NOT_AVAILABLE</td>\n",
       "      <td>325.947732</td>\n",
       "      <td>22.165413</td>\n",
       "      <td>228.416226</td>\n",
       "      <td>-19.488371</td>\n",
       "    </tr>\n",
       "  </tbody>\n",
       "</table>\n",
       "<p>10 rows × 60 columns</p>\n",
       "</div>"
      ],
      "text/plain": [
       "   pmdec_error  ra_dec_corr  solution_id          source_id  \\\n",
       "0          NaN     -0.70700    380766208   5282605037517288   \n",
       "1          NaN     -0.60135    380766208  19155693000980960   \n",
       "2          NaN      0.13645    380766208   5307344049142200   \n",
       "3          NaN     -0.99045    380766208   5247420665428392   \n",
       "4          NaN     -0.81295    380766208   7754307176757673   \n",
       "5          NaN     -0.99565    380766208   5261714316589480   \n",
       "6          NaN     -0.12870    380766208   7765302293035433   \n",
       "7          NaN     -0.89365    380766208   5256766514264488   \n",
       "8          NaN     -0.03625    380766208   5277107479378688   \n",
       "9          NaN     -0.14785    380766208   5251268956125608   \n",
       "\n",
       "          random_index     htm9  ring256  nest256  ref_epoch          ra  ...  \\\n",
       "0  3802459346013519872  2882253      NaN      NaN       2015  219.386098  ...   \n",
       "1  3607672949823242240  2882253      NaN      NaN       2015  219.382135  ...   \n",
       "2  4709030434283978752  2882253      NaN      NaN       2015  219.393581  ...   \n",
       "3  4281789481637380096  2882242      NaN      NaN       2015  219.399990  ...   \n",
       "4  2131676171190927360  2882253      NaN      NaN       2015  219.401910  ...   \n",
       "5  2263435610234552320  2882253      NaN      NaN       2015  219.408167  ...   \n",
       "6  1164227542157099008  2882253      NaN      NaN       2015  219.409928  ...   \n",
       "7  3356372102641876992  2882253      NaN      NaN       2015  219.401041  ...   \n",
       "8  1765130867442712576  2882253      NaN      NaN       2015  219.410698  ...   \n",
       "9  4898152713503637504  2882253      NaN      NaN       2015  219.416133  ...   \n",
       "\n",
       "   scan_direction_mean_k4  phot_g_n_obs  phot_g_mean_flux  \\\n",
       "0              -23.588076            59        105.231307   \n",
       "1              -26.038597            51       2787.417442   \n",
       "2              -24.180206            85        144.531456   \n",
       "3              -30.753368            98       6724.071722   \n",
       "4              -23.287327            69        306.952384   \n",
       "5              -31.125006            93      12291.791472   \n",
       "6              -23.373909            84        133.231945   \n",
       "7              -23.300661            68       1337.260831   \n",
       "8              -23.792971            86        207.345161   \n",
       "9              -23.608847            94        253.515705   \n",
       "\n",
       "   phot_g_mean_flux_error  phot_g_mean_mag  phot_variable_flag           l  \\\n",
       "0                2.212695        20.469408       NOT_AVAILABLE  325.929432   \n",
       "1                5.019928        16.911765       NOT_AVAILABLE  325.926819   \n",
       "2                1.828985        20.124864       NOT_AVAILABLE  325.937941   \n",
       "3                5.852034        15.955689       NOT_AVAILABLE  325.934411   \n",
       "4                2.990556        19.307093       NOT_AVAILABLE  325.936628   \n",
       "5                7.985610        15.300732       NOT_AVAILABLE  325.942983   \n",
       "6                1.712889        20.213249       NOT_AVAILABLE  325.943448   \n",
       "7               12.173469        17.709230       NOT_AVAILABLE  325.936580   \n",
       "8                2.346311        19.733035       NOT_AVAILABLE  325.947960   \n",
       "9                2.048341        19.514758       NOT_AVAILABLE  325.947732   \n",
       "\n",
       "           b     ecl_lon    ecl_lat  \n",
       "0  22.186421  228.387787 -19.485247  \n",
       "1  22.188809  228.384182 -19.485238  \n",
       "2  22.188877  228.391928 -19.477976  \n",
       "3  22.169914  228.403543 -19.493801  \n",
       "4  22.170610  228.404580 -19.491865  \n",
       "5  22.171185  228.408608 -19.487332  \n",
       "6  22.168769  228.410729 -19.488756  \n",
       "7  22.172155  228.403398 -19.490794  \n",
       "8  22.176103  228.408443 -19.480594  \n",
       "9  22.165413  228.416226 -19.488371  \n",
       "\n",
       "[10 rows x 60 columns]"
      ]
     },
     "execution_count": 11,
     "metadata": {},
     "output_type": "execute_result"
    }
   ],
   "source": [
    "df2=convert(qc.query(sql=\"SELECT * FROM mydb://gaia_result_table\"))\n",
    "df2"
   ]
  },
  {
   "cell_type": "markdown",
   "metadata": {},
   "source": [
    "Similarly, we can use the *mydb_import* function to import data from VOSpace into a MyDB table:"
   ]
  },
  {
   "cell_type": "code",
   "execution_count": 39,
   "metadata": {},
   "outputs": [
    {
     "name": "stdout",
     "output_type": "stream",
     "text": [
      "OK\r\n"
     ]
    }
   ],
   "source": [
    "!datalab mydb_import table=\"magsvos\" data=\"vos://smags.csv\""
   ]
  },
  {
   "cell_type": "markdown",
   "metadata": {},
   "source": [
    "Let's make sure the table was created in MyDB by calling the *mydb_list* function:"
   ]
  },
  {
   "cell_type": "code",
   "execution_count": 40,
   "metadata": {},
   "outputs": [
    {
     "name": "stdout",
     "output_type": "stream",
     "text": [
      "c4d,created:2020-08-27 14:55:07 MST\r\n",
      "cd,created:2020-08-27 15:08:40 MST\r\n",
      "createdtable,created:2020-09-04 17:00:56 MST\r\n",
      "gaia_result_table,created:2020-09-04 17:06:05 MST\r\n",
      "magsvos,created:2020-09-04 18:01:23 MST\r\n",
      "quickresults,created:2020-08-25 14:44:34 MST\r\n",
      "quickresults2,created:2020-08-25 14:46:01 MST\r\n",
      "usno_objects,created:2020-09-02 12:17:52 MST\r\n",
      "\r\n"
     ]
    }
   ],
   "source": [
    "!datalab mydb_list"
   ]
  },
  {
   "cell_type": "markdown",
   "metadata": {},
   "source": [
    "We can view the schema definition of the table by calling the *mydb_list* function on the table:"
   ]
  },
  {
   "cell_type": "code",
   "execution_count": 41,
   "metadata": {},
   "outputs": [
    {
     "name": "stdout",
     "output_type": "stream",
     "text": [
      "id,smallint,\r\n",
      "g,double precision,\r\n",
      "r,double precision,\r\n",
      "i,double precision,\r\n",
      "\r\n"
     ]
    }
   ],
   "source": [
    "!datalab mydb_list table=\"magsvos\""
   ]
  },
  {
   "cell_type": "markdown",
   "metadata": {},
   "source": [
    "**FROM A PYTHON SCRIPT (i.e. within this notebook, not on command line):** Let's also make sure the data was imported into the table by converting the table into a Pandas Dataframe and printing it on-screen:"
   ]
  },
  {
   "cell_type": "code",
   "execution_count": 42,
   "metadata": {},
   "outputs": [
    {
     "data": {
      "text/html": [
       "<div>\n",
       "<style scoped>\n",
       "    .dataframe tbody tr th:only-of-type {\n",
       "        vertical-align: middle;\n",
       "    }\n",
       "\n",
       "    .dataframe tbody tr th {\n",
       "        vertical-align: top;\n",
       "    }\n",
       "\n",
       "    .dataframe thead th {\n",
       "        text-align: right;\n",
       "    }\n",
       "</style>\n",
       "<table border=\"1\" class=\"dataframe\">\n",
       "  <thead>\n",
       "    <tr style=\"text-align: right;\">\n",
       "      <th></th>\n",
       "      <th>id</th>\n",
       "      <th>g</th>\n",
       "      <th>r</th>\n",
       "      <th>i</th>\n",
       "    </tr>\n",
       "  </thead>\n",
       "  <tbody>\n",
       "    <tr>\n",
       "      <td>0</td>\n",
       "      <td>1</td>\n",
       "      <td>22.3</td>\n",
       "      <td>12.4</td>\n",
       "      <td>21.5</td>\n",
       "    </tr>\n",
       "    <tr>\n",
       "      <td>1</td>\n",
       "      <td>2</td>\n",
       "      <td>22.3</td>\n",
       "      <td>12.4</td>\n",
       "      <td>21.5</td>\n",
       "    </tr>\n",
       "    <tr>\n",
       "      <td>2</td>\n",
       "      <td>3</td>\n",
       "      <td>22.3</td>\n",
       "      <td>12.4</td>\n",
       "      <td>21.5</td>\n",
       "    </tr>\n",
       "    <tr>\n",
       "      <td>3</td>\n",
       "      <td>4</td>\n",
       "      <td>22.3</td>\n",
       "      <td>12.4</td>\n",
       "      <td>21.5</td>\n",
       "    </tr>\n",
       "    <tr>\n",
       "      <td>4</td>\n",
       "      <td>5</td>\n",
       "      <td>22.3</td>\n",
       "      <td>12.4</td>\n",
       "      <td>21.5</td>\n",
       "    </tr>\n",
       "    <tr>\n",
       "      <td>5</td>\n",
       "      <td>6</td>\n",
       "      <td>22.3</td>\n",
       "      <td>12.4</td>\n",
       "      <td>21.5</td>\n",
       "    </tr>\n",
       "    <tr>\n",
       "      <td>6</td>\n",
       "      <td>7</td>\n",
       "      <td>22.3</td>\n",
       "      <td>12.4</td>\n",
       "      <td>21.5</td>\n",
       "    </tr>\n",
       "  </tbody>\n",
       "</table>\n",
       "</div>"
      ],
      "text/plain": [
       "   id     g     r     i\n",
       "0   1  22.3  12.4  21.5\n",
       "1   2  22.3  12.4  21.5\n",
       "2   3  22.3  12.4  21.5\n",
       "3   4  22.3  12.4  21.5\n",
       "4   5  22.3  12.4  21.5\n",
       "5   6  22.3  12.4  21.5\n",
       "6   7  22.3  12.4  21.5"
      ]
     },
     "execution_count": 42,
     "metadata": {},
     "output_type": "execute_result"
    }
   ],
   "source": [
    "df3=convert(qc.query(sql=\"SELECT * FROM mydb://magsvos\"))\n",
    "df3"
   ]
  },
  {
   "cell_type": "markdown",
   "metadata": {},
   "source": [
    "<a class=\"anchor\" id=\"truncmdmydb\"></a>\n",
    "### 2.5 Truncating a MyDB table   ????? \n",
    "**Does not truncate ... does not allow user to choose what or how much to truncate**\n",
    "\n",
    "    class MyDB_Truncate(Task):\n",
    "    '''\n",
    "        Truncate a user MyDB table.\n",
    "    '''\n",
    "    def __init__(self, datalab):\n",
    "        Task.__init__(self, datalab, 'mydb_truncate',\n",
    "                      'Truncate a user MyDB table')\n",
    "        self.addOption(\"table\",\n",
    "            Option(\"table\", \"\", \"Table name to create\", required=True))\n",
    "        self.addStdOptions()\n",
    "\n",
    "    def run(self):\n",
    "        token = getUserToken(self)\n",
    "        try:\n",
    "            res = queryClient.mydb_truncate (token, table=self.table.value)\n",
    "        except Exception as e:\n",
    "            print (\"Error truncating table '%s': %s\" % \\\n",
    "                   (self.table.value,str(e)))\n",
    "        else:\n",
    "            print (res)\n",
    "            \n",
    "We can truncate a MyDB table, i.e. drop all rows but keep the table definition (schema), with the *mydb_truncate* function and the following parameter:\n",
    "\n",
    "*table* - name of the MyDB table to truncate"
   ]
  },
  {
   "cell_type": "code",
   "execution_count": null,
   "metadata": {},
   "outputs": [],
   "source": [
    "!datalab mydb_truncate table=\"gaia_result_table\" "
   ]
  },
  {
   "cell_type": "markdown",
   "metadata": {},
   "source": [
    "Let's make sure the table was truncated by calling the *mydb_list* function on the table: "
   ]
  },
  {
   "cell_type": "code",
   "execution_count": null,
   "metadata": {},
   "outputs": [],
   "source": [
    "!datalab mydb_list table=\"gaia_result_table\""
   ]
  },
  {
   "cell_type": "markdown",
   "metadata": {},
   "source": [
    "**FROM A PYTHON SCRIPT (i.e. within this notebook, not on command line):** We can also make sure the table was truncated by converting the table into a Pandas Dataframe and printing it on-screen:"
   ]
  },
  {
   "cell_type": "code",
   "execution_count": null,
   "metadata": {},
   "outputs": [],
   "source": [
    "df4=convert(qc.query(sql=\"SELECT * FROM mydb://gaia_result_table\"))\n",
    "df4"
   ]
  },
  {
   "cell_type": "markdown",
   "metadata": {},
   "source": [
    "<a class=\"anchor\" id=\"copycmdmydb\"></a>\n",
    "### 2.6 Copying a MyDB table\n",
    "We can copy a MyDB table that currently exists in a user's MyDB database with the *mydb_copy* function and the following parameters:\n",
    "\n",
    "*source* - name of table to copy  \n",
    "*target* - name of new table with copied data from source table"
   ]
  },
  {
   "cell_type": "code",
   "execution_count": 43,
   "metadata": {},
   "outputs": [
    {
     "name": "stdout",
     "output_type": "stream",
     "text": [
      "OK\r\n"
     ]
    }
   ],
   "source": [
    "!datalab mydb_copy source=\"magsvos\" target=\"magsvos_copy\""
   ]
  },
  {
   "cell_type": "markdown",
   "metadata": {},
   "source": [
    "Let's make sure the newly copied table exists in MyDB database by calling the *mydb_list* function:"
   ]
  },
  {
   "cell_type": "code",
   "execution_count": 44,
   "metadata": {},
   "outputs": [
    {
     "name": "stdout",
     "output_type": "stream",
     "text": [
      "c4d,created:2020-08-27 14:55:07 MST\r\n",
      "cd,created:2020-08-27 15:08:40 MST\r\n",
      "createdtable,created:2020-09-04 17:00:56 MST\r\n",
      "gaia_result_table,created:2020-09-04 17:06:05 MST\r\n",
      "magsvos,created:2020-09-04 18:01:23 MST\r\n",
      "magsvos_copy,\r\n",
      "quickresults,created:2020-08-25 14:44:34 MST\r\n",
      "quickresults2,created:2020-08-25 14:46:01 MST\r\n",
      "usno_objects,created:2020-09-02 12:17:52 MST\r\n",
      "\r\n"
     ]
    }
   ],
   "source": [
    "!datalab mydb_list"
   ]
  },
  {
   "cell_type": "markdown",
   "metadata": {},
   "source": [
    "<a class=\"anchor\" id=\"renamecmdmydb\"></a>\n",
    "### 2.7 Renaming a MyDB table\n",
    "We can choose to rename a MyDB table with the *mydb_rename* function and the following parameters:\n",
    "\n",
    "*old* - name of table to rename  \n",
    "*new* - new name of table"
   ]
  },
  {
   "cell_type": "code",
   "execution_count": 45,
   "metadata": {},
   "outputs": [
    {
     "name": "stdout",
     "output_type": "stream",
     "text": [
      "OK\r\n"
     ]
    }
   ],
   "source": [
    "!datalab mydb_rename old=\"magsvos\" new=\"newermagsvos\""
   ]
  },
  {
   "cell_type": "markdown",
   "metadata": {},
   "source": [
    "Let's make sure the name was changed by calling the *mydb_list* function:"
   ]
  },
  {
   "cell_type": "code",
   "execution_count": 46,
   "metadata": {},
   "outputs": [
    {
     "name": "stdout",
     "output_type": "stream",
     "text": [
      "c4d,created:2020-08-27 14:55:07 MST\r\n",
      "cd,created:2020-08-27 15:08:40 MST\r\n",
      "createdtable,created:2020-09-04 17:00:56 MST\r\n",
      "gaia_result_table,created:2020-09-04 17:06:05 MST\r\n",
      "magsvos_copy,\r\n",
      "newermagsvos,created:2020-09-04 18:01:23 MST\r\n",
      "quickresults,created:2020-08-25 14:44:34 MST\r\n",
      "quickresults2,created:2020-08-25 14:46:01 MST\r\n",
      "usno_objects,created:2020-09-02 12:17:52 MST\r\n",
      "\r\n"
     ]
    }
   ],
   "source": [
    "!datalab mydb_list"
   ]
  },
  {
   "cell_type": "markdown",
   "metadata": {},
   "source": [
    "<a class=\"anchor\" id=\"dropcmdmydb\"></a>\n",
    "### 2.8 Dropping a MyDB table\n",
    "We can remove a MyDB table from a user's MyDB database by calling the *mydb_drop* function and the following parameter:\n",
    "\n",
    "*table* - name of the table we wish to remove from MyDB database"
   ]
  },
  {
   "cell_type": "code",
   "execution_count": 48,
   "metadata": {},
   "outputs": [
    {
     "name": "stdout",
     "output_type": "stream",
     "text": [
      "OK\r\n"
     ]
    }
   ],
   "source": [
    "!datalab mydb_drop table=\"newermagsvos\""
   ]
  },
  {
   "cell_type": "markdown",
   "metadata": {},
   "source": [
    "Let's make sure the MyDB table was dropped by calling the *mydb_list* function:"
   ]
  },
  {
   "cell_type": "code",
   "execution_count": 49,
   "metadata": {},
   "outputs": [
    {
     "name": "stdout",
     "output_type": "stream",
     "text": [
      "c4d,created:2020-08-27 14:55:07 MST\r\n",
      "cd,created:2020-08-27 15:08:40 MST\r\n",
      "createdtable,created:2020-09-04 17:00:56 MST\r\n",
      "gaia_result_table,created:2020-09-04 17:06:05 MST\r\n",
      "magsvos_copy,\r\n",
      "quickresults,created:2020-08-25 14:44:34 MST\r\n",
      "quickresults2,created:2020-08-25 14:46:01 MST\r\n",
      "usno_objects,created:2020-09-02 12:17:52 MST\r\n",
      "\r\n"
     ]
    }
   ],
   "source": [
    "!datalab mydb_list"
   ]
  },
  {
   "cell_type": "markdown",
   "metadata": {},
   "source": [
    "# Clean up MyDB\n",
    "For clean-up purposes, let's remove the files we saved locally as well as the tables we created in MyDB and files/directories we created in VOSpace."
   ]
  },
  {
   "cell_type": "markdown",
   "metadata": {},
   "source": [
    "in MyDB\n",
    "schema.txt\n",
    "sampledata.csv\n",
    "gaia_result.csv\n",
    "createdtable\n",
    "gaia_result_table\n",
    "magsvos_copy\n",
    "\n",
    "in VOSpace\n",
    "smags.csv\n",
    "mysmags.csv\n",
    "vos://tmp"
   ]
  },
  {
   "cell_type": "code",
   "execution_count": null,
   "metadata": {},
   "outputs": [],
   "source": []
  }
 ],
 "metadata": {
  "kernelspec": {
   "display_name": "Python 3",
   "language": "python",
   "name": "python3"
  },
  "language_info": {
   "codemirror_mode": {
    "name": "ipython",
    "version": 3
   },
   "file_extension": ".py",
   "mimetype": "text/x-python",
   "name": "python",
   "nbconvert_exporter": "python",
   "pygments_lexer": "ipython3",
   "version": "3.7.4"
  }
 },
 "nbformat": 4,
 "nbformat_minor": 2
}
